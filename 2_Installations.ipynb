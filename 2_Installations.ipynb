{
 "cells": [
  {
   "cell_type": "markdown",
   "metadata": {},
   "source": [
    "# Introduction"
   ]
  },
  {
   "cell_type": "markdown",
   "metadata": {},
   "source": [
    "The European Transaction Log (EUTL) is the backbone of the European Union Emissions Trading System (EUETS). It implements the transfer of emission allowances between parties active in the EUETS. The EUTL provides data on regulated installations, their emissions as well as transfers of allowances.  \n",
    "\n",
    "Assuming that the database has been successfully populated with the EUTL data (see 1_create_database.ipynb), this notebook illustrates how to analyze compliance and transactions of a single installation.\n",
    "\n",
    "As a starting point, we assume that the installation identifier is known. The most easy way to find the identifier is going to www.EUETS.INFO/installations and use the search field.\n",
    "\n",
    "Specifically, we consider the Drax Power Station with installation identifier GB_381. To analyze another installation, simply change the assignment determining the installation identifier (but the text most likely no longer fits;).\n",
    "\n",
    "The analysis takes place in three steps:\n",
    "1. Use the installation identifier to get the installation object.\n",
    "2. The installation object provides methods to obtain compliance and surrendering details as well as associated accounts\n",
    "3. Account objects provide methods to assess related transactions."
   ]
  },
  {
   "cell_type": "code",
   "execution_count": 1,
   "metadata": {},
   "outputs": [],
   "source": [
    "id_inst = \"GB_381\""
   ]
  },
  {
   "cell_type": "markdown",
   "metadata": {},
   "source": [
    "# Packages and options"
   ]
  },
  {
   "cell_type": "code",
   "execution_count": 2,
   "metadata": {},
   "outputs": [],
   "source": [
    "from eutl_orm import DataAccessLayer    # data access layer to access the database\n",
    "from eutl_orm import Installation       # EUETS Installation object\n",
    "import numpy as np \n",
    "import pandas as pd\n",
    "import matplotlib.pyplot as plt\n",
    "%matplotlib inline"
   ]
  },
  {
   "cell_type": "markdown",
   "metadata": {},
   "source": [
    "Database connection settings"
   ]
  },
  {
   "cell_type": "code",
   "execution_count": 3,
   "metadata": {},
   "outputs": [],
   "source": [
    "connectionSettings = dict(\n",
    "    user=\"eutlAdmin\", \n",
    "    host=\"localhost\", \n",
    "    db=\"eutl_orm\", \n",
    "    passw=\"1234\",\n",
    "    port=5432\n",
    ")"
   ]
  },
  {
   "cell_type": "markdown",
   "metadata": {},
   "source": [
    "# Connect to database"
   ]
  },
  {
   "cell_type": "markdown",
   "metadata": {},
   "source": [
    "Connect to database and get a session:"
   ]
  },
  {
   "cell_type": "code",
   "execution_count": 4,
   "metadata": {},
   "outputs": [],
   "source": [
    "dal = DataAccessLayer(**connectionSettings)\n",
    "session = dal.session"
   ]
  },
  {
   "cell_type": "markdown",
   "metadata": {},
   "source": [
    "# Get installation"
   ]
  },
  {
   "cell_type": "markdown",
   "metadata": {},
   "source": [
    "Given the installation id, use the session to query the installation:"
   ]
  },
  {
   "cell_type": "code",
   "execution_count": 5,
   "metadata": {},
   "outputs": [
    {
     "name": "stdout",
     "output_type": "stream",
     "text": [
      "GB_381: Drax Power Station\n",
      "DRAX POWER LIMITED,\n",
      "DRAX POWER STATION, PO BOX 3\n",
      "YO8 8PQ SELBY, NORTH YORKSHIRE\n",
      "United Kingdom\n"
     ]
    }
   ],
   "source": [
    "inst = session.query(Installation).get(id_inst)\n",
    "print(inst.id + \": \" + inst.name)\n",
    "print(inst.address)"
   ]
  },
  {
   "cell_type": "markdown",
   "metadata": {},
   "source": [
    "# Analyze compliance"
   ]
  },
  {
   "cell_type": "markdown",
   "metadata": {},
   "source": [
    "Compliance is a property of the installation. For convenience, .get_compliance() provides the compliance as pandas DataFrame."
   ]
  },
  {
   "cell_type": "code",
   "execution_count": 6,
   "metadata": {},
   "outputs": [
    {
     "data": {
      "text/html": [
       "<div>\n",
       "<style scoped>\n",
       "    .dataframe tbody tr th:only-of-type {\n",
       "        vertical-align: middle;\n",
       "    }\n",
       "\n",
       "    .dataframe tbody tr th {\n",
       "        vertical-align: top;\n",
       "    }\n",
       "\n",
       "    .dataframe thead th {\n",
       "        text-align: right;\n",
       "    }\n",
       "</style>\n",
       "<table border=\"1\" class=\"dataframe\">\n",
       "  <thead>\n",
       "    <tr style=\"text-align: right;\">\n",
       "      <th></th>\n",
       "      <th>verifiedCummulative</th>\n",
       "      <th>allocated10c</th>\n",
       "      <th>allocatedNewEntrance</th>\n",
       "      <th>allocatedFree</th>\n",
       "      <th>euetsPhase</th>\n",
       "      <th>surrenderedCummulative</th>\n",
       "      <th>verifiedUpdated</th>\n",
       "      <th>verified</th>\n",
       "      <th>allocatedTotal</th>\n",
       "      <th>compliance_id</th>\n",
       "      <th>installation_id</th>\n",
       "      <th>year</th>\n",
       "      <th>surrendered</th>\n",
       "      <th>compliance</th>\n",
       "    </tr>\n",
       "  </thead>\n",
       "  <tbody>\n",
       "    <tr>\n",
       "      <th>0</th>\n",
       "      <td>20771624.0</td>\n",
       "      <td>0.0</td>\n",
       "      <td>0.0</td>\n",
       "      <td>14554187.0</td>\n",
       "      <td>2005-2007</td>\n",
       "      <td>20771624.0</td>\n",
       "      <td>False</td>\n",
       "      <td>20771624.0</td>\n",
       "      <td>14554187.0</td>\n",
       "      <td>A</td>\n",
       "      <td>GB_381</td>\n",
       "      <td>2005</td>\n",
       "      <td>20771624.0</td>\n",
       "      <td>The number of allowances and ERUs/CERs surrend...</td>\n",
       "    </tr>\n",
       "    <tr>\n",
       "      <th>1</th>\n",
       "      <td>43536471.0</td>\n",
       "      <td>0.0</td>\n",
       "      <td>0.0</td>\n",
       "      <td>14554187.0</td>\n",
       "      <td>2005-2007</td>\n",
       "      <td>43536471.0</td>\n",
       "      <td>False</td>\n",
       "      <td>22764847.0</td>\n",
       "      <td>14554187.0</td>\n",
       "      <td>A</td>\n",
       "      <td>GB_381</td>\n",
       "      <td>2006</td>\n",
       "      <td>22764847.0</td>\n",
       "      <td>The number of allowances and ERUs/CERs surrend...</td>\n",
       "    </tr>\n",
       "  </tbody>\n",
       "</table>\n",
       "</div>"
      ],
      "text/plain": [
       "   verifiedCummulative  allocated10c  allocatedNewEntrance  allocatedFree  \\\n",
       "0           20771624.0           0.0                   0.0     14554187.0   \n",
       "1           43536471.0           0.0                   0.0     14554187.0   \n",
       "\n",
       "  euetsPhase  surrenderedCummulative  verifiedUpdated    verified  \\\n",
       "0  2005-2007              20771624.0            False  20771624.0   \n",
       "1  2005-2007              43536471.0            False  22764847.0   \n",
       "\n",
       "   allocatedTotal compliance_id installation_id  year  surrendered  \\\n",
       "0      14554187.0             A          GB_381  2005   20771624.0   \n",
       "1      14554187.0             A          GB_381  2006   22764847.0   \n",
       "\n",
       "                                          compliance  \n",
       "0  The number of allowances and ERUs/CERs surrend...  \n",
       "1  The number of allowances and ERUs/CERs surrend...  "
      ]
     },
     "execution_count": 6,
     "metadata": {},
     "output_type": "execute_result"
    }
   ],
   "source": [
    "inst.compliance\n",
    "df_compliance = inst.get_compliance()\n",
    "df_compliance.head(2)"
   ]
  },
  {
   "cell_type": "markdown",
   "metadata": {},
   "source": [
    "To get a first impression, plot compliance, i.e., allocated and surrendered allowances and verified emissions over time:"
   ]
  },
  {
   "cell_type": "code",
   "execution_count": 7,
   "metadata": {},
   "outputs": [
    {
     "data": {
      "text/plain": [
       "<AxesSubplot:xlabel='year', ylabel='Million tCO$_2$'>"
      ]
     },
     "execution_count": 7,
     "metadata": {},
     "output_type": "execute_result"
    },
    {
     "data": {
      "image/png": "[encoded data removed]",
      "text/plain": [
       "<Figure size 720x288 with 1 Axes>"
      ]
     },
     "metadata": {
      "needs_background": "light"
     },
     "output_type": "display_data"
    }
   ],
   "source": [
    "df_compliance[[\"year\", \"allocatedTotal\", \"verified\", \"surrendered\"]]\\\n",
    "    .set_index(\"year\").div(1000000)\\\n",
    "    .plot(kind=\"bar\", figsize=(10,4), ylabel=r\"Million tCO$_2$\", grid=True)"
   ]
  },
  {
   "cell_type": "markdown",
   "metadata": {},
   "source": [
    "The plot provides three main insights: First, in all years, verified emissions equal surrendered allowances, i.e., the installation was always compliant. Second, emissions remained rather constant between 2005 and 2012 although showing some annual variations. From 2012 onwards, emissions show a strongly decreasing trend. Third, in the first (second) EUETS period, the installation received about 15 (9) million allowances for free but received no free allocation after 2012. Irrespective of free allocation, the installation was in need to acquire additional allowances, i.e., verified emissions always exceeded free allocation."
   ]
  },
  {
   "cell_type": "markdown",
   "metadata": {},
   "source": [
    "# Surrendering"
   ]
  },
  {
   "cell_type": "markdown",
   "metadata": {},
   "source": [
    "The installation was in need to acquire additional allowances to be compliant with the EUETS. This offers the question, which allowances have been surrendered. For the first two periods (2005-2007, 2008-2012) the EUTL reports the type of allowances surrendered (e.g., EUA, CER, ERU) as well as the country in which the surrendered certificate has been created. \n",
    "\n",
    "Technically, surrendering unit details are also accessible through the installation object (property: surrendering) and the method get_surrendering() provides a Pandas dataframe:"
   ]
  },
  {
   "cell_type": "code",
   "execution_count": 8,
   "metadata": {},
   "outputs": [
    {
     "data": {
      "text/html": [
       "<div>\n",
       "<style scoped>\n",
       "    .dataframe tbody tr th:only-of-type {\n",
       "        vertical-align: middle;\n",
       "    }\n",
       "\n",
       "    .dataframe tbody tr th {\n",
       "        vertical-align: top;\n",
       "    }\n",
       "\n",
       "    .dataframe thead th {\n",
       "        text-align: right;\n",
       "    }\n",
       "</style>\n",
       "<table border=\"1\" class=\"dataframe\">\n",
       "  <thead>\n",
       "    <tr style=\"text-align: right;\">\n",
       "      <th></th>\n",
       "      <th>originatingRegistry_id</th>\n",
       "      <th>unitType_id</th>\n",
       "      <th>installation_id</th>\n",
       "      <th>project_id</th>\n",
       "      <th>amount</th>\n",
       "      <th>year</th>\n",
       "      <th>unitType</th>\n",
       "    </tr>\n",
       "  </thead>\n",
       "  <tbody>\n",
       "    <tr>\n",
       "      <th>0</th>\n",
       "      <td>AT</td>\n",
       "      <td>EUA2005</td>\n",
       "      <td>GB_381</td>\n",
       "      <td>NaN</td>\n",
       "      <td>14000</td>\n",
       "      <td>2005</td>\n",
       "      <td>Allowance issued for the 2005-2007 period and ...</td>\n",
       "    </tr>\n",
       "    <tr>\n",
       "      <th>1</th>\n",
       "      <td>BE</td>\n",
       "      <td>EUA2005</td>\n",
       "      <td>GB_381</td>\n",
       "      <td>NaN</td>\n",
       "      <td>600500</td>\n",
       "      <td>2005</td>\n",
       "      <td>Allowance issued for the 2005-2007 period and ...</td>\n",
       "    </tr>\n",
       "  </tbody>\n",
       "</table>\n",
       "</div>"
      ],
      "text/plain": [
       "  originatingRegistry_id unitType_id installation_id  project_id  amount  \\\n",
       "0                     AT     EUA2005          GB_381         NaN   14000   \n",
       "1                     BE     EUA2005          GB_381         NaN  600500   \n",
       "\n",
       "   year                                           unitType  \n",
       "0  2005  Allowance issued for the 2005-2007 period and ...  \n",
       "1  2005  Allowance issued for the 2005-2007 period and ...  "
      ]
     },
     "execution_count": 8,
     "metadata": {},
     "output_type": "execute_result"
    }
   ],
   "source": [
    "inst.get_surrendering().head(2)"
   ]
  },
  {
   "cell_type": "markdown",
   "metadata": {},
   "source": [
    "For periods prior to 2013 we observe the country of origin for surrendered units: "
   ]
  },
  {
   "cell_type": "code",
   "execution_count": 9,
   "metadata": {},
   "outputs": [
    {
     "data": {
      "text/plain": [
       "<matplotlib.legend.Legend at 0x28bc408baf0>"
      ]
     },
     "execution_count": 9,
     "metadata": {},
     "output_type": "execute_result"
    },
    {
     "data": {
      "image/png": "[encoded data removed]",
      "text/plain": [
       "<Figure size 720x288 with 1 Axes>"
      ]
     },
     "metadata": {
      "needs_background": "light"
     },
     "output_type": "display_data"
    }
   ],
   "source": [
    "ax = inst.get_surrendering()\\\n",
    "        [[\"year\", \"originatingRegistry_id\", \"amount\"]]\\\n",
    "        .pivot_table(\"amount\", \"year\", \"originatingRegistry_id\")\\\n",
    "        .div(1000000)\\\n",
    "        .plot(kind=\"bar\", stacked=True,  figsize=(10,4),)\n",
    "ax.legend(bbox_to_anchor=(0.9, -0.2), loc=0, ncol=8)"
   ]
  },
  {
   "cell_type": "markdown",
   "metadata": {},
   "source": [
    "We observe a rather diverse picture of allowances origins. Naturally, the largest share of allowances was created in the UK as the installation is located in the UK. In later years, we observe the usage of international credits created in Russia. \n",
    "\n",
    "For the remainder of this notebook, we concentrate on the first year of the EUETS, i.e., surrendering in 2005."
   ]
  },
  {
   "cell_type": "code",
   "execution_count": 10,
   "metadata": {},
   "outputs": [
    {
     "data": {
      "text/html": [
       "<div>\n",
       "<style scoped>\n",
       "    .dataframe tbody tr th:only-of-type {\n",
       "        vertical-align: middle;\n",
       "    }\n",
       "\n",
       "    .dataframe tbody tr th {\n",
       "        vertical-align: top;\n",
       "    }\n",
       "\n",
       "    .dataframe thead th {\n",
       "        text-align: right;\n",
       "    }\n",
       "</style>\n",
       "<table border=\"1\" class=\"dataframe\">\n",
       "  <thead>\n",
       "    <tr style=\"text-align: right;\">\n",
       "      <th></th>\n",
       "      <th>originatingRegistry_id</th>\n",
       "      <th>amount</th>\n",
       "      <th>unitType</th>\n",
       "    </tr>\n",
       "  </thead>\n",
       "  <tbody>\n",
       "    <tr>\n",
       "      <th>9</th>\n",
       "      <td>GB</td>\n",
       "      <td>16.257826</td>\n",
       "      <td>Allowance issued for the 2005-2007 period and ...</td>\n",
       "    </tr>\n",
       "    <tr>\n",
       "      <th>3</th>\n",
       "      <td>DE</td>\n",
       "      <td>0.983190</td>\n",
       "      <td>Allowance issued for the 2005-2007 period and ...</td>\n",
       "    </tr>\n",
       "    <tr>\n",
       "      <th>5</th>\n",
       "      <td>EE</td>\n",
       "      <td>0.895000</td>\n",
       "      <td>Allowance issued for the 2005-2007 period and ...</td>\n",
       "    </tr>\n",
       "    <tr>\n",
       "      <th>2</th>\n",
       "      <td>CZ</td>\n",
       "      <td>0.675008</td>\n",
       "      <td>Allowance issued for the 2005-2007 period and ...</td>\n",
       "    </tr>\n",
       "    <tr>\n",
       "      <th>1</th>\n",
       "      <td>BE</td>\n",
       "      <td>0.600500</td>\n",
       "      <td>Allowance issued for the 2005-2007 period and ...</td>\n",
       "    </tr>\n",
       "    <tr>\n",
       "      <th>8</th>\n",
       "      <td>FR</td>\n",
       "      <td>0.485457</td>\n",
       "      <td>Allowance issued for the 2005-2007 period and ...</td>\n",
       "    </tr>\n",
       "    <tr>\n",
       "      <th>7</th>\n",
       "      <td>FI</td>\n",
       "      <td>0.237833</td>\n",
       "      <td>Allowance issued for the 2005-2007 period and ...</td>\n",
       "    </tr>\n",
       "    <tr>\n",
       "      <th>4</th>\n",
       "      <td>DK</td>\n",
       "      <td>0.224255</td>\n",
       "      <td>Allowance issued for the 2005-2007 period and ...</td>\n",
       "    </tr>\n",
       "    <tr>\n",
       "      <th>12</th>\n",
       "      <td>NL</td>\n",
       "      <td>0.205720</td>\n",
       "      <td>Allowance issued for the 2005-2007 period and ...</td>\n",
       "    </tr>\n",
       "    <tr>\n",
       "      <th>14</th>\n",
       "      <td>SK</td>\n",
       "      <td>0.086869</td>\n",
       "      <td>Allowance issued for the 2005-2007 period and ...</td>\n",
       "    </tr>\n",
       "    <tr>\n",
       "      <th>11</th>\n",
       "      <td>LV</td>\n",
       "      <td>0.080376</td>\n",
       "      <td>Allowance issued for the 2005-2007 period and ...</td>\n",
       "    </tr>\n",
       "    <tr>\n",
       "      <th>13</th>\n",
       "      <td>SE</td>\n",
       "      <td>0.017590</td>\n",
       "      <td>Allowance issued for the 2005-2007 period and ...</td>\n",
       "    </tr>\n",
       "    <tr>\n",
       "      <th>0</th>\n",
       "      <td>AT</td>\n",
       "      <td>0.014000</td>\n",
       "      <td>Allowance issued for the 2005-2007 period and ...</td>\n",
       "    </tr>\n",
       "    <tr>\n",
       "      <th>6</th>\n",
       "      <td>ES</td>\n",
       "      <td>0.005000</td>\n",
       "      <td>Allowance issued for the 2005-2007 period and ...</td>\n",
       "    </tr>\n",
       "    <tr>\n",
       "      <th>10</th>\n",
       "      <td>IE</td>\n",
       "      <td>0.003000</td>\n",
       "      <td>Allowance issued for the 2005-2007 period and ...</td>\n",
       "    </tr>\n",
       "  </tbody>\n",
       "</table>\n",
       "</div>"
      ],
      "text/plain": [
       "   originatingRegistry_id     amount  \\\n",
       "9                      GB  16.257826   \n",
       "3                      DE   0.983190   \n",
       "5                      EE   0.895000   \n",
       "2                      CZ   0.675008   \n",
       "1                      BE   0.600500   \n",
       "8                      FR   0.485457   \n",
       "7                      FI   0.237833   \n",
       "4                      DK   0.224255   \n",
       "12                     NL   0.205720   \n",
       "14                     SK   0.086869   \n",
       "11                     LV   0.080376   \n",
       "13                     SE   0.017590   \n",
       "0                      AT   0.014000   \n",
       "6                      ES   0.005000   \n",
       "10                     IE   0.003000   \n",
       "\n",
       "                                             unitType  \n",
       "9   Allowance issued for the 2005-2007 period and ...  \n",
       "3   Allowance issued for the 2005-2007 period and ...  \n",
       "5   Allowance issued for the 2005-2007 period and ...  \n",
       "2   Allowance issued for the 2005-2007 period and ...  \n",
       "1   Allowance issued for the 2005-2007 period and ...  \n",
       "8   Allowance issued for the 2005-2007 period and ...  \n",
       "7   Allowance issued for the 2005-2007 period and ...  \n",
       "4   Allowance issued for the 2005-2007 period and ...  \n",
       "12  Allowance issued for the 2005-2007 period and ...  \n",
       "14  Allowance issued for the 2005-2007 period and ...  \n",
       "11  Allowance issued for the 2005-2007 period and ...  \n",
       "13  Allowance issued for the 2005-2007 period and ...  \n",
       "0   Allowance issued for the 2005-2007 period and ...  \n",
       "6   Allowance issued for the 2005-2007 period and ...  \n",
       "10  Allowance issued for the 2005-2007 period and ...  "
      ]
     },
     "execution_count": 10,
     "metadata": {},
     "output_type": "execute_result"
    }
   ],
   "source": [
    "df_surrender = inst.get_surrendering()\n",
    "df_surrender = df_surrender[df_surrender.year == 2005]\\\n",
    "                    .drop([\"year\", \"unitType_id\", \"project_id\", \"installation_id\"], axis=1)\\\n",
    "                    .sort_values(\"amount\", ascending=False)\n",
    "df_surrender.amount = df_surrender.amount/1000000\n",
    "df_surrender"
   ]
  },
  {
   "cell_type": "markdown",
   "metadata": {},
   "source": [
    "In 2005, only allowanced for the first period existed. The installation show a rather divers pattern of allowance origins implying that the associated account has to be involved in quite some transactions in the first year of trading."
   ]
  },
  {
   "cell_type": "markdown",
   "metadata": {},
   "source": [
    "# Accounts"
   ]
  },
  {
   "cell_type": "markdown",
   "metadata": {},
   "source": [
    "Our installation shows a surprising variety of allowances used for surrendering. This offers the question how did they acquire these allowances? To find an answer to this this questions, we need to examine the transaction behavior of related <i>Accounts</i>.\n",
    "\n",
    "The EUETS implements emissions trading. Industrial plants regulated are called <i>Installations</i>. Each installation has to be related to an accounts. These accounts might (and are likely to) change over time but at each instance in time an installation is represented by an account. Accounts are the backbone of the trading system, i.e., allowances are transferred between accounts not between installations. Accounts related to installations are called operator holding accounts. As transfers of allowances take place at the account level, we need to find out which accounts represent our installation.\n",
    "\n",
    "Technically, related accounts are again implemented as property on the installation object (property: accounts). Accounts related to installations are called operator holding accounts (oha):"
   ]
  },
  {
   "cell_type": "code",
   "execution_count": 11,
   "metadata": {},
   "outputs": [
    {
     "data": {
      "text/plain": [
       "[<Account(23976, 'GB Drax Power Station', 'GB', '100-7')>,\n",
       " <Account(22619, 'GB Operator Account', 'GB', '120-0')>]"
      ]
     },
     "execution_count": 11,
     "metadata": {},
     "output_type": "execute_result"
    }
   ],
   "source": [
    "ohas = inst.accounts\n",
    "ohas"
   ]
  },
  {
   "cell_type": "markdown",
   "metadata": {},
   "source": [
    "There are two different accounts. 120-0 denotes former operator holding accounts whereas 100-7 denotes the operating holding account. This account structure is common for installations that have been regulated under the EUETS already before 2013. Due to the change in the EUTL, all installation had to convert their account from 120-0 to 100-7 accounts. Consequently, our 2005 analysis has to focus in the 120-0 account with the meaningful name \"Operator Account\"."
   ]
  },
  {
   "cell_type": "markdown",
   "metadata": {},
   "source": [
    "## Getting transactions"
   ]
  },
  {
   "cell_type": "markdown",
   "metadata": {},
   "source": [
    "Transactions are provided as property on the respective account (property: transactions). To separate transaction by whether the selected account is acquiring or transferring allowances, separate transactions exist (acquiringTransactions, transferringTransactions). get_transactions() provides again a Pandas dataframe with transaction by the respective account."
   ]
  },
  {
   "cell_type": "code",
   "execution_count": 12,
   "metadata": {},
   "outputs": [
    {
     "name": "stdout",
     "output_type": "stream",
     "text": [
      "<class 'pandas.core.frame.DataFrame'>\n",
      "DatetimeIndex: 10370 entries, 2005-05-24 17:45:16.876000 to 2012-12-07 12:54:15.072000\n",
      "Data columns (total 18 columns):\n",
      " #   Column                           Non-Null Count  Dtype  \n",
      "---  ------                           --------------  -----  \n",
      " 0   transactionTypeMain_id           10370 non-null  int64  \n",
      " 1   unitType_id                      10370 non-null  object \n",
      " 2   transactionID                    10370 non-null  object \n",
      " 3   project_id                       123 non-null    float64\n",
      " 4   acquiringAccount_id              10370 non-null  int64  \n",
      " 5   transactionTypeSupplementary_id  10370 non-null  int64  \n",
      " 6   id                               10370 non-null  int64  \n",
      " 7   amount                           10370 non-null  int64  \n",
      " 8   transferringAccount_id           10370 non-null  int64  \n",
      " 9   unitType                         10370 non-null  object \n",
      " 10  transactionTypeMain              10370 non-null  object \n",
      " 11  transactionTypeSupplementary     5340 non-null   object \n",
      " 12  acquiringAccountName             10370 non-null  object \n",
      " 13  acquiringAccountType             10370 non-null  object \n",
      " 14  transferringAccountName          10363 non-null  object \n",
      " 15  transferringAccountType          10363 non-null  object \n",
      " 16  direction                        10370 non-null  int64  \n",
      " 17  amount_directed                  10370 non-null  int64  \n",
      "dtypes: float64(1), int64(8), object(9)\n",
      "memory usage: 1.5+ MB\n"
     ]
    }
   ],
   "source": [
    "df_trans = ohas[1].get_transactions()\n",
    "df_trans.info()"
   ]
  },
  {
   "cell_type": "markdown",
   "metadata": {},
   "source": [
    "Given that we look at an former operator holding accounts, we observe transactions between 2005 and 2012. Overall we observe over 10000 entries in the transaction data. However, that does not mean that the transaction was involved in 10000 transactions. If a transaction involves different unit types or units from different origins, this is reported as a row in the transaction data. To see the number of transactions carried out, we count the number of transactionIDs as provided by the EUTL: "
   ]
  },
  {
   "cell_type": "code",
   "execution_count": 13,
   "metadata": {},
   "outputs": [
    {
     "name": "stdout",
     "output_type": "stream",
     "text": [
      "Number of transactions: 206\n"
     ]
    }
   ],
   "source": [
    "print(\"Number of transactions: %d\" % len(df_trans[\"transactionID\"].unique()))"
   ]
  },
  {
   "cell_type": "markdown",
   "metadata": {},
   "source": [
    "So only 206 transactions have been carried out. Before continuing to analyze the first year of transaction activities, we show how to calculate allowance holdings over time."
   ]
  },
  {
   "cell_type": "markdown",
   "metadata": {},
   "source": [
    "## Allowances holdings"
   ]
  },
  {
   "cell_type": "markdown",
   "metadata": {},
   "source": [
    "The dataframe contains a column \"direction\" which equals 1 if the account is acquiring and -1 if the account is acquiring allowances. The column \"amount_directed\" contains to the amount of each transaction multiplied by the direction. We can use it plot transfers over time and also the cumulative allowance holding:"
   ]
  },
  {
   "cell_type": "code",
   "execution_count": 14,
   "metadata": {},
   "outputs": [
    {
     "data": {
      "image/png": "[encoded data removed]",
      "text/plain": [
       "<Figure size 1080x360 with 1 Axes>"
      ]
     },
     "metadata": {
      "needs_background": "light"
     },
     "output_type": "display_data"
    }
   ],
   "source": [
    "df_ = df_trans[[\"amount_directed\"]]/1000000\n",
    "df_[\"holding\"] = df_.amount_directed.cumsum()\n",
    "ax = df_.plot( figsize=(15,5), ylabel=\"Million Allowances\")"
   ]
  },
  {
   "cell_type": "markdown",
   "metadata": {},
   "source": [
    "We observe a rather typical pattern. End of February, the account receives a large amount of allowances (blue line). This is primary allocation of allowances. It is followed by a large negative transfer which marks surrendering of allowances. In between we observe further transactions which might be market transaction, transactions within the company, etc. Allowance holding naturally follows transactions. Surprisingly, after the last transaction observed, allowance holding is still positive."
   ]
  },
  {
   "cell_type": "markdown",
   "metadata": {},
   "source": [
    "## Transactions"
   ]
  },
  {
   "cell_type": "markdown",
   "metadata": {},
   "source": [
    "Lets finally take a closer look at transactions until the first surrendering of allowances that took place beginning of April 2006. We do not aim to track the origin of allowances and, thus, aggregate data to transactions that took place"
   ]
  },
  {
   "cell_type": "code",
   "execution_count": 15,
   "metadata": {},
   "outputs": [
    {
     "data": {
      "text/html": [
       "<div>\n",
       "<style scoped>\n",
       "    .dataframe tbody tr th:only-of-type {\n",
       "        vertical-align: middle;\n",
       "    }\n",
       "\n",
       "    .dataframe tbody tr th {\n",
       "        vertical-align: top;\n",
       "    }\n",
       "\n",
       "    .dataframe thead th {\n",
       "        text-align: right;\n",
       "    }\n",
       "</style>\n",
       "<table border=\"1\" class=\"dataframe\">\n",
       "  <thead>\n",
       "    <tr style=\"text-align: right;\">\n",
       "      <th></th>\n",
       "      <th>transactionID</th>\n",
       "      <th>transactionTypeMain</th>\n",
       "      <th>transactionTypeSupplementary</th>\n",
       "      <th>transferringAccountName</th>\n",
       "      <th>transferringAccountType</th>\n",
       "      <th>acquiringAccountName</th>\n",
       "      <th>acquiringAccountType</th>\n",
       "      <th>amount_directed</th>\n",
       "    </tr>\n",
       "    <tr>\n",
       "      <th>date</th>\n",
       "      <th></th>\n",
       "      <th></th>\n",
       "      <th></th>\n",
       "      <th></th>\n",
       "      <th></th>\n",
       "      <th></th>\n",
       "      <th></th>\n",
       "      <th></th>\n",
       "    </tr>\n",
       "  </thead>\n",
       "  <tbody>\n",
       "    <tr>\n",
       "      <th>2005-05-24 17:45:16.876</th>\n",
       "      <td>GB349</td>\n",
       "      <td>Internal - Internal transfer of unit/supplemen...</td>\n",
       "      <td>Allowance allocation</td>\n",
       "      <td>GB 2005 NAP</td>\n",
       "      <td>Party Holding Account</td>\n",
       "      <td>GB Operator Account</td>\n",
       "      <td>Former Operator Holding Account</td>\n",
       "      <td>14554187</td>\n",
       "    </tr>\n",
       "    <tr>\n",
       "      <th>2005-05-31 11:59:00.035</th>\n",
       "      <td>DK848</td>\n",
       "      <td>External - External transfer of unit between r...</td>\n",
       "      <td>External transfer (2005-2007)</td>\n",
       "      <td>DK Shell Trading International Limited (STIL):...</td>\n",
       "      <td>Person Account in National Registry</td>\n",
       "      <td>GB Operator Account</td>\n",
       "      <td>Former Operator Holding Account</td>\n",
       "      <td>5000</td>\n",
       "    </tr>\n",
       "    <tr>\n",
       "      <th>2005-07-15 14:47:59.151</th>\n",
       "      <td>DK907</td>\n",
       "      <td>External - External transfer of unit between r...</td>\n",
       "      <td>External transfer (2005-2007)</td>\n",
       "      <td>DK EBL Trading DK:DK388</td>\n",
       "      <td>Person Account in National Registry</td>\n",
       "      <td>GB Operator Account</td>\n",
       "      <td>Former Operator Holding Account</td>\n",
       "      <td>10000</td>\n",
       "    </tr>\n",
       "    <tr>\n",
       "      <th>2005-11-01 18:14:54.387</th>\n",
       "      <td>DK1038</td>\n",
       "      <td>External - External transfer of unit between r...</td>\n",
       "      <td>External transfer (2005-2007)</td>\n",
       "      <td>DK Shell Trading International Limited (STIL):...</td>\n",
       "      <td>Person Account in National Registry</td>\n",
       "      <td>GB Operator Account</td>\n",
       "      <td>Former Operator Holding Account</td>\n",
       "      <td>100000</td>\n",
       "    </tr>\n",
       "    <tr>\n",
       "      <th>2005-11-30 14:17:59.789</th>\n",
       "      <td>DK1193</td>\n",
       "      <td>External - External transfer of unit between r...</td>\n",
       "      <td>External transfer (2005-2007)</td>\n",
       "      <td>DK Shell Trading International Limited (STIL):...</td>\n",
       "      <td>Person Account in National Registry</td>\n",
       "      <td>GB Operator Account</td>\n",
       "      <td>Former Operator Holding Account</td>\n",
       "      <td>160000</td>\n",
       "    </tr>\n",
       "    <tr>\n",
       "      <th>2005-12-14 15:17:47.575</th>\n",
       "      <td>DK1284</td>\n",
       "      <td>External - External transfer of unit between r...</td>\n",
       "      <td>External transfer (2005-2007)</td>\n",
       "      <td>DK Shell Trading International Limited (STIL):...</td>\n",
       "      <td>Person Account in National Registry</td>\n",
       "      <td>GB Operator Account</td>\n",
       "      <td>Former Operator Holding Account</td>\n",
       "      <td>60000</td>\n",
       "    </tr>\n",
       "    <tr>\n",
       "      <th>2005-12-20 16:03:28.308</th>\n",
       "      <td>DK1333</td>\n",
       "      <td>External - External transfer of unit between r...</td>\n",
       "      <td>External transfer (2005-2007)</td>\n",
       "      <td>DK Shell Trading International Limited (STIL):...</td>\n",
       "      <td>Person Account in National Registry</td>\n",
       "      <td>GB Operator Account</td>\n",
       "      <td>Former Operator Holding Account</td>\n",
       "      <td>10000</td>\n",
       "    </tr>\n",
       "    <tr>\n",
       "      <th>2006-01-13 15:51:56.981</th>\n",
       "      <td>DK1417</td>\n",
       "      <td>External - External transfer of unit between r...</td>\n",
       "      <td>External transfer (2005-2007)</td>\n",
       "      <td>DK Shell Trading International Limited (STIL):...</td>\n",
       "      <td>Person Account in National Registry</td>\n",
       "      <td>GB Operator Account</td>\n",
       "      <td>Former Operator Holding Account</td>\n",
       "      <td>135000</td>\n",
       "    </tr>\n",
       "    <tr>\n",
       "      <th>2006-02-09 16:39:09.170</th>\n",
       "      <td>DK1571</td>\n",
       "      <td>External - External transfer of unit between r...</td>\n",
       "      <td>External transfer (2005-2007)</td>\n",
       "      <td>DK Shell Trading International Limited (STIL):...</td>\n",
       "      <td>Person Account in National Registry</td>\n",
       "      <td>GB Operator Account</td>\n",
       "      <td>Former Operator Holding Account</td>\n",
       "      <td>20000</td>\n",
       "    </tr>\n",
       "    <tr>\n",
       "      <th>2006-02-15 16:34:39.828</th>\n",
       "      <td>DK1584</td>\n",
       "      <td>External - External transfer of unit between r...</td>\n",
       "      <td>External transfer (2005-2007)</td>\n",
       "      <td>DK Shell Trading International Limited (STIL):...</td>\n",
       "      <td>Person Account in National Registry</td>\n",
       "      <td>GB Operator Account</td>\n",
       "      <td>Former Operator Holding Account</td>\n",
       "      <td>20000</td>\n",
       "    </tr>\n",
       "    <tr>\n",
       "      <th>2006-02-21 17:22:51.261</th>\n",
       "      <td>DK1609</td>\n",
       "      <td>External - External transfer of unit between r...</td>\n",
       "      <td>External transfer (2005-2007)</td>\n",
       "      <td>DK Shell Trading International Limited (STIL):...</td>\n",
       "      <td>Person Account in National Registry</td>\n",
       "      <td>GB Operator Account</td>\n",
       "      <td>Former Operator Holding Account</td>\n",
       "      <td>10000</td>\n",
       "    </tr>\n",
       "    <tr>\n",
       "      <th>2006-02-24 19:01:56.762</th>\n",
       "      <td>GB2244</td>\n",
       "      <td>Internal - Internal transfer of unit/supplemen...</td>\n",
       "      <td>Allowance allocation</td>\n",
       "      <td>GB 2006 NAP</td>\n",
       "      <td>Party Holding Account</td>\n",
       "      <td>GB Operator Account</td>\n",
       "      <td>Former Operator Holding Account</td>\n",
       "      <td>14554187</td>\n",
       "    </tr>\n",
       "    <tr>\n",
       "      <th>2006-03-14 11:58:57.401</th>\n",
       "      <td>DK2068</td>\n",
       "      <td>External - External transfer of unit between r...</td>\n",
       "      <td>External transfer (2005-2007)</td>\n",
       "      <td>DK Barclays A:DK393</td>\n",
       "      <td>Person Account in National Registry</td>\n",
       "      <td>GB Operator Account</td>\n",
       "      <td>Former Operator Holding Account</td>\n",
       "      <td>250000</td>\n",
       "    </tr>\n",
       "    <tr>\n",
       "      <th>2006-03-14 15:40:45.233</th>\n",
       "      <td>DK2072</td>\n",
       "      <td>External - External transfer of unit between r...</td>\n",
       "      <td>External transfer (2005-2007)</td>\n",
       "      <td>DK Shell Trading International Limited (STIL):...</td>\n",
       "      <td>Person Account in National Registry</td>\n",
       "      <td>GB Operator Account</td>\n",
       "      <td>Former Operator Holding Account</td>\n",
       "      <td>20000</td>\n",
       "    </tr>\n",
       "    <tr>\n",
       "      <th>2006-04-03 14:07:33.990</th>\n",
       "      <td>GB3329</td>\n",
       "      <td>Internal - Internal transfer of unit/supplemen...</td>\n",
       "      <td>Allowance surrender</td>\n",
       "      <td>GB Operator Account</td>\n",
       "      <td>Former Operator Holding Account</td>\n",
       "      <td>GB \"Main PHA\" (use only, for Surrenders)</td>\n",
       "      <td>Party Holding Account</td>\n",
       "      <td>-9999999</td>\n",
       "    </tr>\n",
       "    <tr>\n",
       "      <th>2006-04-03 14:09:21.160</th>\n",
       "      <td>GB3330</td>\n",
       "      <td>Internal - Internal transfer of unit/supplemen...</td>\n",
       "      <td>Allowance surrender</td>\n",
       "      <td>GB Operator Account</td>\n",
       "      <td>Former Operator Holding Account</td>\n",
       "      <td>GB \"Main PHA\" (use only, for Surrenders)</td>\n",
       "      <td>Party Holding Account</td>\n",
       "      <td>-10008509</td>\n",
       "    </tr>\n",
       "    <tr>\n",
       "      <th>2006-04-03 14:12:28.910</th>\n",
       "      <td>GB3332</td>\n",
       "      <td>Internal - Internal transfer of unit/supplemen...</td>\n",
       "      <td>Allowance surrender</td>\n",
       "      <td>GB Operator Account</td>\n",
       "      <td>Former Operator Holding Account</td>\n",
       "      <td>GB \"Main PHA\" (use only, for Surrenders)</td>\n",
       "      <td>Party Holding Account</td>\n",
       "      <td>-771626</td>\n",
       "    </tr>\n",
       "  </tbody>\n",
       "</table>\n",
       "</div>"
      ],
      "text/plain": [
       "                        transactionID  \\\n",
       "date                                    \n",
       "2005-05-24 17:45:16.876         GB349   \n",
       "2005-05-31 11:59:00.035         DK848   \n",
       "2005-07-15 14:47:59.151         DK907   \n",
       "2005-11-01 18:14:54.387        DK1038   \n",
       "2005-11-30 14:17:59.789        DK1193   \n",
       "2005-12-14 15:17:47.575        DK1284   \n",
       "2005-12-20 16:03:28.308        DK1333   \n",
       "2006-01-13 15:51:56.981        DK1417   \n",
       "2006-02-09 16:39:09.170        DK1571   \n",
       "2006-02-15 16:34:39.828        DK1584   \n",
       "2006-02-21 17:22:51.261        DK1609   \n",
       "2006-02-24 19:01:56.762        GB2244   \n",
       "2006-03-14 11:58:57.401        DK2068   \n",
       "2006-03-14 15:40:45.233        DK2072   \n",
       "2006-04-03 14:07:33.990        GB3329   \n",
       "2006-04-03 14:09:21.160        GB3330   \n",
       "2006-04-03 14:12:28.910        GB3332   \n",
       "\n",
       "                                                       transactionTypeMain  \\\n",
       "date                                                                         \n",
       "2005-05-24 17:45:16.876  Internal - Internal transfer of unit/supplemen...   \n",
       "2005-05-31 11:59:00.035  External - External transfer of unit between r...   \n",
       "2005-07-15 14:47:59.151  External - External transfer of unit between r...   \n",
       "2005-11-01 18:14:54.387  External - External transfer of unit between r...   \n",
       "2005-11-30 14:17:59.789  External - External transfer of unit between r...   \n",
       "2005-12-14 15:17:47.575  External - External transfer of unit between r...   \n",
       "2005-12-20 16:03:28.308  External - External transfer of unit between r...   \n",
       "2006-01-13 15:51:56.981  External - External transfer of unit between r...   \n",
       "2006-02-09 16:39:09.170  External - External transfer of unit between r...   \n",
       "2006-02-15 16:34:39.828  External - External transfer of unit between r...   \n",
       "2006-02-21 17:22:51.261  External - External transfer of unit between r...   \n",
       "2006-02-24 19:01:56.762  Internal - Internal transfer of unit/supplemen...   \n",
       "2006-03-14 11:58:57.401  External - External transfer of unit between r...   \n",
       "2006-03-14 15:40:45.233  External - External transfer of unit between r...   \n",
       "2006-04-03 14:07:33.990  Internal - Internal transfer of unit/supplemen...   \n",
       "2006-04-03 14:09:21.160  Internal - Internal transfer of unit/supplemen...   \n",
       "2006-04-03 14:12:28.910  Internal - Internal transfer of unit/supplemen...   \n",
       "\n",
       "                          transactionTypeSupplementary  \\\n",
       "date                                                     \n",
       "2005-05-24 17:45:16.876           Allowance allocation   \n",
       "2005-05-31 11:59:00.035  External transfer (2005-2007)   \n",
       "2005-07-15 14:47:59.151  External transfer (2005-2007)   \n",
       "2005-11-01 18:14:54.387  External transfer (2005-2007)   \n",
       "2005-11-30 14:17:59.789  External transfer (2005-2007)   \n",
       "2005-12-14 15:17:47.575  External transfer (2005-2007)   \n",
       "2005-12-20 16:03:28.308  External transfer (2005-2007)   \n",
       "2006-01-13 15:51:56.981  External transfer (2005-2007)   \n",
       "2006-02-09 16:39:09.170  External transfer (2005-2007)   \n",
       "2006-02-15 16:34:39.828  External transfer (2005-2007)   \n",
       "2006-02-21 17:22:51.261  External transfer (2005-2007)   \n",
       "2006-02-24 19:01:56.762           Allowance allocation   \n",
       "2006-03-14 11:58:57.401  External transfer (2005-2007)   \n",
       "2006-03-14 15:40:45.233  External transfer (2005-2007)   \n",
       "2006-04-03 14:07:33.990            Allowance surrender   \n",
       "2006-04-03 14:09:21.160            Allowance surrender   \n",
       "2006-04-03 14:12:28.910            Allowance surrender   \n",
       "\n",
       "                                                   transferringAccountName  \\\n",
       "date                                                                         \n",
       "2005-05-24 17:45:16.876                                        GB 2005 NAP   \n",
       "2005-05-31 11:59:00.035  DK Shell Trading International Limited (STIL):...   \n",
       "2005-07-15 14:47:59.151                            DK EBL Trading DK:DK388   \n",
       "2005-11-01 18:14:54.387  DK Shell Trading International Limited (STIL):...   \n",
       "2005-11-30 14:17:59.789  DK Shell Trading International Limited (STIL):...   \n",
       "2005-12-14 15:17:47.575  DK Shell Trading International Limited (STIL):...   \n",
       "2005-12-20 16:03:28.308  DK Shell Trading International Limited (STIL):...   \n",
       "2006-01-13 15:51:56.981  DK Shell Trading International Limited (STIL):...   \n",
       "2006-02-09 16:39:09.170  DK Shell Trading International Limited (STIL):...   \n",
       "2006-02-15 16:34:39.828  DK Shell Trading International Limited (STIL):...   \n",
       "2006-02-21 17:22:51.261  DK Shell Trading International Limited (STIL):...   \n",
       "2006-02-24 19:01:56.762                                        GB 2006 NAP   \n",
       "2006-03-14 11:58:57.401                                DK Barclays A:DK393   \n",
       "2006-03-14 15:40:45.233  DK Shell Trading International Limited (STIL):...   \n",
       "2006-04-03 14:07:33.990                                GB Operator Account   \n",
       "2006-04-03 14:09:21.160                                GB Operator Account   \n",
       "2006-04-03 14:12:28.910                                GB Operator Account   \n",
       "\n",
       "                                     transferringAccountType  \\\n",
       "date                                                           \n",
       "2005-05-24 17:45:16.876                Party Holding Account   \n",
       "2005-05-31 11:59:00.035  Person Account in National Registry   \n",
       "2005-07-15 14:47:59.151  Person Account in National Registry   \n",
       "2005-11-01 18:14:54.387  Person Account in National Registry   \n",
       "2005-11-30 14:17:59.789  Person Account in National Registry   \n",
       "2005-12-14 15:17:47.575  Person Account in National Registry   \n",
       "2005-12-20 16:03:28.308  Person Account in National Registry   \n",
       "2006-01-13 15:51:56.981  Person Account in National Registry   \n",
       "2006-02-09 16:39:09.170  Person Account in National Registry   \n",
       "2006-02-15 16:34:39.828  Person Account in National Registry   \n",
       "2006-02-21 17:22:51.261  Person Account in National Registry   \n",
       "2006-02-24 19:01:56.762                Party Holding Account   \n",
       "2006-03-14 11:58:57.401  Person Account in National Registry   \n",
       "2006-03-14 15:40:45.233  Person Account in National Registry   \n",
       "2006-04-03 14:07:33.990      Former Operator Holding Account   \n",
       "2006-04-03 14:09:21.160      Former Operator Holding Account   \n",
       "2006-04-03 14:12:28.910      Former Operator Holding Account   \n",
       "\n",
       "                                             acquiringAccountName  \\\n",
       "date                                                                \n",
       "2005-05-24 17:45:16.876                       GB Operator Account   \n",
       "2005-05-31 11:59:00.035                       GB Operator Account   \n",
       "2005-07-15 14:47:59.151                       GB Operator Account   \n",
       "2005-11-01 18:14:54.387                       GB Operator Account   \n",
       "2005-11-30 14:17:59.789                       GB Operator Account   \n",
       "2005-12-14 15:17:47.575                       GB Operator Account   \n",
       "2005-12-20 16:03:28.308                       GB Operator Account   \n",
       "2006-01-13 15:51:56.981                       GB Operator Account   \n",
       "2006-02-09 16:39:09.170                       GB Operator Account   \n",
       "2006-02-15 16:34:39.828                       GB Operator Account   \n",
       "2006-02-21 17:22:51.261                       GB Operator Account   \n",
       "2006-02-24 19:01:56.762                       GB Operator Account   \n",
       "2006-03-14 11:58:57.401                       GB Operator Account   \n",
       "2006-03-14 15:40:45.233                       GB Operator Account   \n",
       "2006-04-03 14:07:33.990  GB \"Main PHA\" (use only, for Surrenders)   \n",
       "2006-04-03 14:09:21.160  GB \"Main PHA\" (use only, for Surrenders)   \n",
       "2006-04-03 14:12:28.910  GB \"Main PHA\" (use only, for Surrenders)   \n",
       "\n",
       "                                    acquiringAccountType  amount_directed  \n",
       "date                                                                       \n",
       "2005-05-24 17:45:16.876  Former Operator Holding Account         14554187  \n",
       "2005-05-31 11:59:00.035  Former Operator Holding Account             5000  \n",
       "2005-07-15 14:47:59.151  Former Operator Holding Account            10000  \n",
       "2005-11-01 18:14:54.387  Former Operator Holding Account           100000  \n",
       "2005-11-30 14:17:59.789  Former Operator Holding Account           160000  \n",
       "2005-12-14 15:17:47.575  Former Operator Holding Account            60000  \n",
       "2005-12-20 16:03:28.308  Former Operator Holding Account            10000  \n",
       "2006-01-13 15:51:56.981  Former Operator Holding Account           135000  \n",
       "2006-02-09 16:39:09.170  Former Operator Holding Account            20000  \n",
       "2006-02-15 16:34:39.828  Former Operator Holding Account            20000  \n",
       "2006-02-21 17:22:51.261  Former Operator Holding Account            10000  \n",
       "2006-02-24 19:01:56.762  Former Operator Holding Account         14554187  \n",
       "2006-03-14 11:58:57.401  Former Operator Holding Account           250000  \n",
       "2006-03-14 15:40:45.233  Former Operator Holding Account            20000  \n",
       "2006-04-03 14:07:33.990            Party Holding Account         -9999999  \n",
       "2006-04-03 14:09:21.160            Party Holding Account        -10008509  \n",
       "2006-04-03 14:12:28.910            Party Holding Account          -771626  "
      ]
     },
     "execution_count": 15,
     "metadata": {},
     "output_type": "execute_result"
    }
   ],
   "source": [
    "df_trans_2005 = df_trans[:\"2006/04/05\"]\n",
    "df_trans_2005.reset_index().groupby(\n",
    "    [\"date\", \"transactionID\", \"transactionTypeMain\", \"transactionTypeSupplementary\",\n",
    "     \"transferringAccountName\", \"transferringAccountType\",\n",
    "     \"acquiringAccountName\", \"acquiringAccountType\"], as_index=False)\\\n",
    "    .amount_directed.sum().set_index(\"date\").sort_index()"
   ]
  },
  {
   "cell_type": "markdown",
   "metadata": {},
   "source": [
    "In the very first transactions, the operator account received allowances from the UK regulator (allocation). Then in a series of transactions, the account acquired additional allowances mainly from an account seeming to be owned by Shell. You can search by the account name on EUETS.INFO showing that albeit the account is registered in Denmark, the holder is located in the UK, more specifically in London. On 2006/02/24 we observe the 2006 allocation of allowances followed by additional acquiring from Barclays and again Shell. Finally, allowances covering 2005 emissions are transfer to the UK regulator in three transactions on 2006/04/03."
   ]
  },
  {
   "cell_type": "markdown",
   "metadata": {},
   "source": [
    "# Conclusions"
   ]
  },
  {
   "cell_type": "markdown",
   "metadata": {},
   "source": [
    "This notebook shows how the EUTL database provided by EUETS.INFO can be used to analyze compliance and transaction behavior of a single installation. The analysis takes place in three steps:\n",
    "1. Use the installation identifier to get the installation object.\n",
    "2. The installation object provides methods to obtain compliance and surrendering details as well as associated accounts\n",
    "3. Account objects provide methods to assess related transactions."
   ]
  },
  {
   "cell_type": "code",
   "execution_count": null,
   "metadata": {},
   "outputs": [],
   "source": []
  }
 ],
 "metadata": {
  "kernelspec": {
   "display_name": "Python [conda env:py38_eutl]",
   "language": "python",
   "name": "conda-env-py38_eutl-py"
  },
  "language_info": {
   "codemirror_mode": {
    "name": "ipython",
    "version": 3
   },
   "file_extension": ".py",
   "mimetype": "text/x-python",
   "name": "python",
   "nbconvert_exporter": "python",
   "pygments_lexer": "ipython3",
   "version": "3.8.5"
  },
  "toc": {
   "base_numbering": 1,
   "nav_menu": {},
   "number_sections": true,
   "sideBar": true,
   "skip_h1_title": false,
   "title_cell": "Table of Contents",
   "title_sidebar": "Contents",
   "toc_cell": false,
   "toc_position": {},
   "toc_section_display": true,
   "toc_window_display": false
  },
  "varInspector": {
   "cols": {
    "lenName": 16,
    "lenType": 16,
    "lenVar": 40
   },
   "kernels_config": {
    "python": {
     "delete_cmd_postfix": "",
     "delete_cmd_prefix": "del ",
     "library": "var_list.py",
     "varRefreshCmd": "print(var_dic_list())"
    },
    "r": {
     "delete_cmd_postfix": ") ",
     "delete_cmd_prefix": "rm(",
     "library": "var_list.r",
     "varRefreshCmd": "cat(var_dic_list()) "
    }
   },
   "types_to_exclude": [
    "module",
    "function",
    "builtin_function_or_method",
    "instance",
    "_Feature"
   ],
   "window_display": false
  }
 },
 "nbformat": 4,
 "nbformat_minor": 4
}
