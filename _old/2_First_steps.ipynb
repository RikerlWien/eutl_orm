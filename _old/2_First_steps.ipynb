{
 "cells": [
  {
   "cell_type": "markdown",
   "metadata": {},
   "source": [
    "# Introduction"
   ]
  },
  {
   "cell_type": "markdown",
   "metadata": {},
   "source": [
    "The European Transaction Log (EUTL) is the backbone of the European Union Emissions Trading System (EUETS). It implements the transfer of emission allowances between parties active in the EUETS. The EUTL provides data on regulated installations, their emissions as well as transfers of allowances.  \n",
    "\n",
    "Assuming that the database has sucessfully populated with the EUTL data (see 1_create_database.ipynb), this notebooks introduces the first steps of analyzing the data."
   ]
  },
  {
   "cell_type": "markdown",
   "metadata": {},
   "source": [
    "# Packages and options"
   ]
  },
  {
   "cell_type": "code",
   "execution_count": 1,
   "metadata": {},
   "outputs": [],
   "source": [
    "from eutl_orm import DataAccessLayer    # data access layer to access the database\n",
    "from eutl_orm import (Installation, Account, AccountHolder,\n",
    "                      Country)          # classes for the basic building blocks of the EUTL\n",
    "import numpy as np \n",
    "import pandas as pd"
   ]
  },
  {
   "cell_type": "markdown",
   "metadata": {},
   "source": [
    "Database connection settings"
   ]
  },
  {
   "cell_type": "code",
   "execution_count": 2,
   "metadata": {},
   "outputs": [],
   "source": [
    "connectionSettings = dict(\n",
    "    user=\"eutlAdmin\", \n",
    "    host=\"localhost\", \n",
    "    db=\"eutl_orm\", \n",
    "    passw=\"1234\",\n",
    "    port=5432\n",
    ")"
   ]
  },
  {
   "cell_type": "markdown",
   "metadata": {},
   "source": [
    "# Connect to database"
   ]
  },
  {
   "cell_type": "markdown",
   "metadata": {},
   "source": [
    "Connect to database and get a session:"
   ]
  },
  {
   "cell_type": "code",
   "execution_count": 3,
   "metadata": {},
   "outputs": [],
   "source": [
    "dal = DataAccessLayer(**connectionSettings)\n",
    "session = dal.session"
   ]
  },
  {
   "cell_type": "markdown",
   "metadata": {},
   "source": [
    "# Installations by registry"
   ]
  },
  {
   "cell_type": "markdown",
   "metadata": {},
   "source": [
    "Suppose we want to get a list of a installations registered in a given country. There are two way of getting this list: (1) filter all installations by the registry and (2) selecting a registry and get all installations.\n",
    "\n",
    "Starting with the first method, use the session to query all installations with the registry being equal to the country code:"
   ]
  },
  {
   "cell_type": "code",
   "execution_count": 4,
   "metadata": {},
   "outputs": [
    {
     "name": "stdout",
     "output_type": "stream",
     "text": [
      "Number of installations registered:  2028\n"
     ]
    }
   ],
   "source": [
    "registry = \"GB\"\n",
    "inst = session.query(Installation).filter_by(registry_id=registry)\n",
    "print(\"Number of installations registered: \", inst.count())"
   ]
  },
  {
   "cell_type": "markdown",
   "metadata": {},
   "source": [
    "So there are 1519 installations registered in Spain. The second way to obtain these installations first selects the country Spain. Given the country object, we then query installations simply as a property of the object:"
   ]
  },
  {
   "cell_type": "code",
   "execution_count": 5,
   "metadata": {},
   "outputs": [
    {
     "name": "stdout",
     "output_type": "stream",
     "text": [
      "<Country('GB', 'United Kingdom')>\n",
      "Number of installations registered:  2028\n"
     ]
    }
   ],
   "source": [
    "gb = session.query(Country).get(registry)\n",
    "print(gb)\n",
    "inst = gb.installations_in_registry\n",
    "print(\"Number of installations registered: \", inst.count())"
   ]
  },
  {
   "cell_type": "markdown",
   "metadata": {},
   "source": [
    "The second methods has the advantage that we can easily obtain other properties of the country. E.g, lets see how many accounts are registered in the registry and how many account holders registered with an address in the country."
   ]
  },
  {
   "cell_type": "code",
   "execution_count": 6,
   "metadata": {},
   "outputs": [
    {
     "name": "stdout",
     "output_type": "stream",
     "text": [
      "Number of accounts registered:  4725\n",
      "Number of account holder:  2157\n"
     ]
    }
   ],
   "source": [
    "print(\"Number of accounts registered: \", len(gb.accounts))\n",
    "print(\"Number of account holder: \", len(gb.accountHolders))"
   ]
  },
  {
   "cell_type": "markdown",
   "metadata": {},
   "source": [
    "# Analyze compliance"
   ]
  },
  {
   "cell_type": "markdown",
   "metadata": {},
   "source": [
    "Given our list installations in the country, let's analyze compliance of a specific installation. We illustrative purpose let's choose an installation with a combustion activity, i.e., activity code 1 or 20.\n",
    "\n",
    "First, filter the list of installations according to the activity code:"
   ]
  },
  {
   "cell_type": "code",
   "execution_count": 7,
   "metadata": {},
   "outputs": [
    {
     "name": "stdout",
     "output_type": "stream",
     "text": [
      "Number of combustion activities: 1218\n"
     ]
    }
   ],
   "source": [
    "inst_combustion = gb.installations_in_registry.filter(Installation.activity_id.in_([1, 20]))\n",
    "print(\"Number of combustion activities:\", inst_combustion.count())"
   ]
  },
  {
   "cell_type": "markdown",
   "metadata": {},
   "source": [
    "Suppose, we want to find the \"Drax\" Coal power plant. To do so, further filter the collection of combustion plants in Spain using the installation name. To execute the query, let's use the one method that will throw an error if we do not find a result or more than one result (Use .all() for all results and .fist() to extract the first result. .first will return None if no result is selected.)"
   ]
  },
  {
   "cell_type": "code",
   "execution_count": 8,
   "metadata": {},
   "outputs": [
    {
     "name": "stdout",
     "output_type": "stream",
     "text": [
      "GB_381: Drax Power Station\n",
      "DRAX POWER LIMITED,\n",
      "DRAX POWER STATION, PO BOX 3\n",
      "YO8 8PQ SELBY, NORTH YORKSHIRE\n",
      "United Kingdom\n"
     ]
    }
   ],
   "source": [
    "drax = inst_combustion.filter(Installation.name.like(\"%Drax%\")).one()\n",
    "print(drax.id + \": \" + drax.name)\n",
    "print(drax.address)"
   ]
  },
  {
   "cell_type": "markdown",
   "metadata": {},
   "source": [
    "Alternatively, we could also use www.EUETS.INFO/installations and the search field there which provides the installation identifier GB_381:"
   ]
  },
  {
   "cell_type": "code",
   "execution_count": 9,
   "metadata": {},
   "outputs": [
    {
     "name": "stdout",
     "output_type": "stream",
     "text": [
      "GB_381: Drax Power Station\n",
      "DRAX POWER LIMITED,\n",
      "DRAX POWER STATION, PO BOX 3\n",
      "YO8 8PQ SELBY, NORTH YORKSHIRE\n",
      "United Kingdom\n"
     ]
    }
   ],
   "source": [
    "drax = session.query(Installation).get(\"GB_381\")\n",
    "print(drax.id + \": \" + drax.name)\n",
    "print(drax.address)"
   ]
  },
  {
   "cell_type": "markdown",
   "metadata": {},
   "source": [
    "Compliance is implemented as a property on the installation. For convenience, .get_compliance() provides the compliance as pandas DataFrame."
   ]
  },
  {
   "cell_type": "code",
   "execution_count": 10,
   "metadata": {},
   "outputs": [
    {
     "data": {
      "text/html": [
       "<div>\n",
       "<style scoped>\n",
       "    .dataframe tbody tr th:only-of-type {\n",
       "        vertical-align: middle;\n",
       "    }\n",
       "\n",
       "    .dataframe tbody tr th {\n",
       "        vertical-align: top;\n",
       "    }\n",
       "\n",
       "    .dataframe thead th {\n",
       "        text-align: right;\n",
       "    }\n",
       "</style>\n",
       "<table border=\"1\" class=\"dataframe\">\n",
       "  <thead>\n",
       "    <tr style=\"text-align: right;\">\n",
       "      <th></th>\n",
       "      <th>verified</th>\n",
       "      <th>allocatedTotal</th>\n",
       "      <th>allocatedFree</th>\n",
       "      <th>compliance_id</th>\n",
       "      <th>installation_id</th>\n",
       "      <th>year</th>\n",
       "      <th>surrendered</th>\n",
       "      <th>verifiedCummulative</th>\n",
       "      <th>allocated10c</th>\n",
       "      <th>allocatedNewEntrance</th>\n",
       "      <th>euetsPhase</th>\n",
       "      <th>surrenderedCummulative</th>\n",
       "      <th>verifiedUpdated</th>\n",
       "      <th>compliance</th>\n",
       "    </tr>\n",
       "  </thead>\n",
       "  <tbody>\n",
       "    <tr>\n",
       "      <th>0</th>\n",
       "      <td>20771624.0</td>\n",
       "      <td>14554187.0</td>\n",
       "      <td>14554187.0</td>\n",
       "      <td>A</td>\n",
       "      <td>GB_381</td>\n",
       "      <td>2005</td>\n",
       "      <td>20771624.0</td>\n",
       "      <td>20771624.0</td>\n",
       "      <td>0.0</td>\n",
       "      <td>0.0</td>\n",
       "      <td>2005-2007</td>\n",
       "      <td>20771624.0</td>\n",
       "      <td>False</td>\n",
       "      <td>The number of allowances and ERUs/CERs surrend...</td>\n",
       "    </tr>\n",
       "    <tr>\n",
       "      <th>1</th>\n",
       "      <td>22764847.0</td>\n",
       "      <td>14554187.0</td>\n",
       "      <td>14554187.0</td>\n",
       "      <td>A</td>\n",
       "      <td>GB_381</td>\n",
       "      <td>2006</td>\n",
       "      <td>22764847.0</td>\n",
       "      <td>43536471.0</td>\n",
       "      <td>0.0</td>\n",
       "      <td>0.0</td>\n",
       "      <td>2005-2007</td>\n",
       "      <td>43536471.0</td>\n",
       "      <td>False</td>\n",
       "      <td>The number of allowances and ERUs/CERs surrend...</td>\n",
       "    </tr>\n",
       "  </tbody>\n",
       "</table>\n",
       "</div>"
      ],
      "text/plain": [
       "     verified  allocatedTotal  allocatedFree compliance_id installation_id  \\\n",
       "0  20771624.0      14554187.0     14554187.0             A          GB_381   \n",
       "1  22764847.0      14554187.0     14554187.0             A          GB_381   \n",
       "\n",
       "   year  surrendered  verifiedCummulative  allocated10c  allocatedNewEntrance  \\\n",
       "0  2005   20771624.0           20771624.0           0.0                   0.0   \n",
       "1  2006   22764847.0           43536471.0           0.0                   0.0   \n",
       "\n",
       "  euetsPhase  surrenderedCummulative  verifiedUpdated  \\\n",
       "0  2005-2007              20771624.0            False   \n",
       "1  2005-2007              43536471.0            False   \n",
       "\n",
       "                                          compliance  \n",
       "0  The number of allowances and ERUs/CERs surrend...  \n",
       "1  The number of allowances and ERUs/CERs surrend...  "
      ]
     },
     "execution_count": 10,
     "metadata": {},
     "output_type": "execute_result"
    }
   ],
   "source": [
    "drax.compliance\n",
    "df_compliance = drax.get_compliance()\n",
    "df_compliance.head(2)"
   ]
  },
  {
   "cell_type": "markdown",
   "metadata": {},
   "source": [
    "Lets see what kind of data are provided for the first year of the EUETS (2005):"
   ]
  },
  {
   "cell_type": "code",
   "execution_count": 11,
   "metadata": {},
   "outputs": [
    {
     "name": "stdout",
     "output_type": "stream",
     "text": [
      "Compliance 2005:                                                                          0\n",
      "verified                                                      2.07716e+07\n",
      "allocatedTotal                                                1.45542e+07\n",
      "allocatedFree                                                 1.45542e+07\n",
      "compliance_id                                                           A\n",
      "installation_id                                                    GB_381\n",
      "year                                                                 2005\n",
      "surrendered                                                   2.07716e+07\n",
      "verifiedCummulative                                           2.07716e+07\n",
      "allocated10c                                                            0\n",
      "allocatedNewEntrance                                                    0\n",
      "euetsPhase                                                      2005-2007\n",
      "surrenderedCummulative                                        2.07716e+07\n",
      "verifiedUpdated                                                     False\n",
      "compliance              The number of allowances and ERUs/CERs surrend...\n",
      "Allocation 2006:  1    14554187.0\n",
      "Name: allocatedTotal, dtype: float64\n"
     ]
    }
   ],
   "source": [
    "print(\"Compliance 2005: \", df_compliance[df_compliance.year == 2005].T)\n",
    "print(\"Allocation 2006: \", df_compliance[df_compliance.year == 2006].allocatedTotal)"
   ]
  },
  {
   "cell_type": "markdown",
   "metadata": {},
   "source": [
    "In 2005 (and 2006), Drax received a free allocation of 14.5 million allowances and emitted 20.7 million tCO<sub>2</sub> The installation was compliant, i.e., the number of allowances surrendered equaled verified emissions.\n",
    "\n",
    "What kind of units have been surrendered and where did they come from? Details are also implemented either as property of the installation and with a get method to obtain a dataframe."
   ]
  },
  {
   "cell_type": "code",
   "execution_count": 12,
   "metadata": {},
   "outputs": [
    {
     "data": {
      "text/html": [
       "<div>\n",
       "<style scoped>\n",
       "    .dataframe tbody tr th:only-of-type {\n",
       "        vertical-align: middle;\n",
       "    }\n",
       "\n",
       "    .dataframe tbody tr th {\n",
       "        vertical-align: top;\n",
       "    }\n",
       "\n",
       "    .dataframe thead th {\n",
       "        text-align: right;\n",
       "    }\n",
       "</style>\n",
       "<table border=\"1\" class=\"dataframe\">\n",
       "  <thead>\n",
       "    <tr style=\"text-align: right;\">\n",
       "      <th></th>\n",
       "      <th>project_id</th>\n",
       "      <th>amount</th>\n",
       "      <th>year</th>\n",
       "      <th>originatingRegistry_id</th>\n",
       "      <th>unitType_id</th>\n",
       "      <th>installation_id</th>\n",
       "      <th>unitType</th>\n",
       "    </tr>\n",
       "  </thead>\n",
       "  <tbody>\n",
       "    <tr>\n",
       "      <th>0</th>\n",
       "      <td>None</td>\n",
       "      <td>14000</td>\n",
       "      <td>2005</td>\n",
       "      <td>AT</td>\n",
       "      <td>EUA2005</td>\n",
       "      <td>GB_381</td>\n",
       "      <td>Allowance issued for the 2005-2007 period and ...</td>\n",
       "    </tr>\n",
       "    <tr>\n",
       "      <th>1</th>\n",
       "      <td>None</td>\n",
       "      <td>600500</td>\n",
       "      <td>2005</td>\n",
       "      <td>BE</td>\n",
       "      <td>EUA2005</td>\n",
       "      <td>GB_381</td>\n",
       "      <td>Allowance issued for the 2005-2007 period and ...</td>\n",
       "    </tr>\n",
       "    <tr>\n",
       "      <th>2</th>\n",
       "      <td>None</td>\n",
       "      <td>675008</td>\n",
       "      <td>2005</td>\n",
       "      <td>CZ</td>\n",
       "      <td>EUA2005</td>\n",
       "      <td>GB_381</td>\n",
       "      <td>Allowance issued for the 2005-2007 period and ...</td>\n",
       "    </tr>\n",
       "    <tr>\n",
       "      <th>3</th>\n",
       "      <td>None</td>\n",
       "      <td>983190</td>\n",
       "      <td>2005</td>\n",
       "      <td>DE</td>\n",
       "      <td>EUA2005</td>\n",
       "      <td>GB_381</td>\n",
       "      <td>Allowance issued for the 2005-2007 period and ...</td>\n",
       "    </tr>\n",
       "    <tr>\n",
       "      <th>4</th>\n",
       "      <td>None</td>\n",
       "      <td>224255</td>\n",
       "      <td>2005</td>\n",
       "      <td>DK</td>\n",
       "      <td>EUA2005</td>\n",
       "      <td>GB_381</td>\n",
       "      <td>Allowance issued for the 2005-2007 period and ...</td>\n",
       "    </tr>\n",
       "    <tr>\n",
       "      <th>5</th>\n",
       "      <td>None</td>\n",
       "      <td>895000</td>\n",
       "      <td>2005</td>\n",
       "      <td>EE</td>\n",
       "      <td>EUA2005</td>\n",
       "      <td>GB_381</td>\n",
       "      <td>Allowance issued for the 2005-2007 period and ...</td>\n",
       "    </tr>\n",
       "    <tr>\n",
       "      <th>6</th>\n",
       "      <td>None</td>\n",
       "      <td>5000</td>\n",
       "      <td>2005</td>\n",
       "      <td>ES</td>\n",
       "      <td>EUA2005</td>\n",
       "      <td>GB_381</td>\n",
       "      <td>Allowance issued for the 2005-2007 period and ...</td>\n",
       "    </tr>\n",
       "    <tr>\n",
       "      <th>7</th>\n",
       "      <td>None</td>\n",
       "      <td>237833</td>\n",
       "      <td>2005</td>\n",
       "      <td>FI</td>\n",
       "      <td>EUA2005</td>\n",
       "      <td>GB_381</td>\n",
       "      <td>Allowance issued for the 2005-2007 period and ...</td>\n",
       "    </tr>\n",
       "    <tr>\n",
       "      <th>8</th>\n",
       "      <td>None</td>\n",
       "      <td>485457</td>\n",
       "      <td>2005</td>\n",
       "      <td>FR</td>\n",
       "      <td>EUA2005</td>\n",
       "      <td>GB_381</td>\n",
       "      <td>Allowance issued for the 2005-2007 period and ...</td>\n",
       "    </tr>\n",
       "    <tr>\n",
       "      <th>9</th>\n",
       "      <td>None</td>\n",
       "      <td>16257826</td>\n",
       "      <td>2005</td>\n",
       "      <td>GB</td>\n",
       "      <td>EUA2005</td>\n",
       "      <td>GB_381</td>\n",
       "      <td>Allowance issued for the 2005-2007 period and ...</td>\n",
       "    </tr>\n",
       "    <tr>\n",
       "      <th>10</th>\n",
       "      <td>None</td>\n",
       "      <td>3000</td>\n",
       "      <td>2005</td>\n",
       "      <td>IE</td>\n",
       "      <td>EUA2005</td>\n",
       "      <td>GB_381</td>\n",
       "      <td>Allowance issued for the 2005-2007 period and ...</td>\n",
       "    </tr>\n",
       "    <tr>\n",
       "      <th>11</th>\n",
       "      <td>None</td>\n",
       "      <td>80376</td>\n",
       "      <td>2005</td>\n",
       "      <td>LV</td>\n",
       "      <td>EUA2005</td>\n",
       "      <td>GB_381</td>\n",
       "      <td>Allowance issued for the 2005-2007 period and ...</td>\n",
       "    </tr>\n",
       "    <tr>\n",
       "      <th>12</th>\n",
       "      <td>None</td>\n",
       "      <td>205720</td>\n",
       "      <td>2005</td>\n",
       "      <td>NL</td>\n",
       "      <td>EUA2005</td>\n",
       "      <td>GB_381</td>\n",
       "      <td>Allowance issued for the 2005-2007 period and ...</td>\n",
       "    </tr>\n",
       "    <tr>\n",
       "      <th>13</th>\n",
       "      <td>None</td>\n",
       "      <td>17590</td>\n",
       "      <td>2005</td>\n",
       "      <td>SE</td>\n",
       "      <td>EUA2005</td>\n",
       "      <td>GB_381</td>\n",
       "      <td>Allowance issued for the 2005-2007 period and ...</td>\n",
       "    </tr>\n",
       "    <tr>\n",
       "      <th>14</th>\n",
       "      <td>None</td>\n",
       "      <td>86869</td>\n",
       "      <td>2005</td>\n",
       "      <td>SK</td>\n",
       "      <td>EUA2005</td>\n",
       "      <td>GB_381</td>\n",
       "      <td>Allowance issued for the 2005-2007 period and ...</td>\n",
       "    </tr>\n",
       "    <tr>\n",
       "      <th>15</th>\n",
       "      <td>None</td>\n",
       "      <td>25000</td>\n",
       "      <td>2006</td>\n",
       "      <td>AT</td>\n",
       "      <td>EUA2005</td>\n",
       "      <td>GB_381</td>\n",
       "      <td>Allowance issued for the 2005-2007 period and ...</td>\n",
       "    </tr>\n",
       "    <tr>\n",
       "      <th>16</th>\n",
       "      <td>None</td>\n",
       "      <td>380585</td>\n",
       "      <td>2006</td>\n",
       "      <td>BE</td>\n",
       "      <td>EUA2005</td>\n",
       "      <td>GB_381</td>\n",
       "      <td>Allowance issued for the 2005-2007 period and ...</td>\n",
       "    </tr>\n",
       "    <tr>\n",
       "      <th>17</th>\n",
       "      <td>None</td>\n",
       "      <td>129977</td>\n",
       "      <td>2006</td>\n",
       "      <td>CZ</td>\n",
       "      <td>EUA2005</td>\n",
       "      <td>GB_381</td>\n",
       "      <td>Allowance issued for the 2005-2007 period and ...</td>\n",
       "    </tr>\n",
       "    <tr>\n",
       "      <th>18</th>\n",
       "      <td>None</td>\n",
       "      <td>109000</td>\n",
       "      <td>2006</td>\n",
       "      <td>DE</td>\n",
       "      <td>EUA2005</td>\n",
       "      <td>GB_381</td>\n",
       "      <td>Allowance issued for the 2005-2007 period and ...</td>\n",
       "    </tr>\n",
       "    <tr>\n",
       "      <th>19</th>\n",
       "      <td>None</td>\n",
       "      <td>236000</td>\n",
       "      <td>2006</td>\n",
       "      <td>DK</td>\n",
       "      <td>EUA2005</td>\n",
       "      <td>GB_381</td>\n",
       "      <td>Allowance issued for the 2005-2007 period and ...</td>\n",
       "    </tr>\n",
       "    <tr>\n",
       "      <th>20</th>\n",
       "      <td>None</td>\n",
       "      <td>64286</td>\n",
       "      <td>2008</td>\n",
       "      <td>AT</td>\n",
       "      <td>EUA_2008</td>\n",
       "      <td>GB_381</td>\n",
       "      <td>AAU - Assigned Amount Unit - Allowance issued ...</td>\n",
       "    </tr>\n",
       "    <tr>\n",
       "      <th>21</th>\n",
       "      <td>None</td>\n",
       "      <td>405779</td>\n",
       "      <td>2008</td>\n",
       "      <td>BE</td>\n",
       "      <td>EUA_2008</td>\n",
       "      <td>GB_381</td>\n",
       "      <td>AAU - Assigned Amount Unit - Allowance issued ...</td>\n",
       "    </tr>\n",
       "    <tr>\n",
       "      <th>22</th>\n",
       "      <td>None</td>\n",
       "      <td>835819</td>\n",
       "      <td>2008</td>\n",
       "      <td>CZ</td>\n",
       "      <td>EUA_2008</td>\n",
       "      <td>GB_381</td>\n",
       "      <td>AAU - Assigned Amount Unit - Allowance issued ...</td>\n",
       "    </tr>\n",
       "    <tr>\n",
       "      <th>23</th>\n",
       "      <td>None</td>\n",
       "      <td>742990</td>\n",
       "      <td>2008</td>\n",
       "      <td>DE</td>\n",
       "      <td>EUA_2008</td>\n",
       "      <td>GB_381</td>\n",
       "      <td>AAU - Assigned Amount Unit - Allowance issued ...</td>\n",
       "    </tr>\n",
       "    <tr>\n",
       "      <th>24</th>\n",
       "      <td>None</td>\n",
       "      <td>120721</td>\n",
       "      <td>2008</td>\n",
       "      <td>DK</td>\n",
       "      <td>EUA_2008</td>\n",
       "      <td>GB_381</td>\n",
       "      <td>AAU - Assigned Amount Unit - Allowance issued ...</td>\n",
       "    </tr>\n",
       "    <tr>\n",
       "      <th>25</th>\n",
       "      <td>None</td>\n",
       "      <td>251989</td>\n",
       "      <td>2008</td>\n",
       "      <td>ES</td>\n",
       "      <td>EUA_2008</td>\n",
       "      <td>GB_381</td>\n",
       "      <td>AAU - Assigned Amount Unit - Allowance issued ...</td>\n",
       "    </tr>\n",
       "    <tr>\n",
       "      <th>26</th>\n",
       "      <td>None</td>\n",
       "      <td>1007438</td>\n",
       "      <td>2008</td>\n",
       "      <td>FR</td>\n",
       "      <td>EUA_2008</td>\n",
       "      <td>GB_381</td>\n",
       "      <td>AAU - Assigned Amount Unit - Allowance issued ...</td>\n",
       "    </tr>\n",
       "    <tr>\n",
       "      <th>27</th>\n",
       "      <td>None</td>\n",
       "      <td>13843552</td>\n",
       "      <td>2008</td>\n",
       "      <td>GB</td>\n",
       "      <td>EUA_2008</td>\n",
       "      <td>GB_381</td>\n",
       "      <td>AAU - Assigned Amount Unit - Allowance issued ...</td>\n",
       "    </tr>\n",
       "    <tr>\n",
       "      <th>28</th>\n",
       "      <td>None</td>\n",
       "      <td>125000</td>\n",
       "      <td>2008</td>\n",
       "      <td>GR</td>\n",
       "      <td>EUA_2008</td>\n",
       "      <td>GB_381</td>\n",
       "      <td>AAU - Assigned Amount Unit - Allowance issued ...</td>\n",
       "    </tr>\n",
       "    <tr>\n",
       "      <th>29</th>\n",
       "      <td>None</td>\n",
       "      <td>4473816</td>\n",
       "      <td>2008</td>\n",
       "      <td>NL</td>\n",
       "      <td>EUA_2008</td>\n",
       "      <td>GB_381</td>\n",
       "      <td>AAU - Assigned Amount Unit - Allowance issued ...</td>\n",
       "    </tr>\n",
       "    <tr>\n",
       "      <th>30</th>\n",
       "      <td>None</td>\n",
       "      <td>139000</td>\n",
       "      <td>2008</td>\n",
       "      <td>PT</td>\n",
       "      <td>EUA_2008</td>\n",
       "      <td>GB_381</td>\n",
       "      <td>AAU - Assigned Amount Unit - Allowance issued ...</td>\n",
       "    </tr>\n",
       "    <tr>\n",
       "      <th>31</th>\n",
       "      <td>None</td>\n",
       "      <td>116329</td>\n",
       "      <td>2008</td>\n",
       "      <td>SE</td>\n",
       "      <td>EUA_2008</td>\n",
       "      <td>GB_381</td>\n",
       "      <td>AAU - Assigned Amount Unit - Allowance issued ...</td>\n",
       "    </tr>\n",
       "    <tr>\n",
       "      <th>32</th>\n",
       "      <td>None</td>\n",
       "      <td>173059</td>\n",
       "      <td>2008</td>\n",
       "      <td>SK</td>\n",
       "      <td>EUA_2008</td>\n",
       "      <td>GB_381</td>\n",
       "      <td>AAU - Assigned Amount Unit - Allowance issued ...</td>\n",
       "    </tr>\n",
       "    <tr>\n",
       "      <th>33</th>\n",
       "      <td>None</td>\n",
       "      <td>29733</td>\n",
       "      <td>2009</td>\n",
       "      <td>AT</td>\n",
       "      <td>EUA_2008</td>\n",
       "      <td>GB_381</td>\n",
       "      <td>AAU - Assigned Amount Unit - Allowance issued ...</td>\n",
       "    </tr>\n",
       "    <tr>\n",
       "      <th>34</th>\n",
       "      <td>None</td>\n",
       "      <td>97242</td>\n",
       "      <td>2009</td>\n",
       "      <td>BE</td>\n",
       "      <td>EUA_2008</td>\n",
       "      <td>GB_381</td>\n",
       "      <td>AAU - Assigned Amount Unit - Allowance issued ...</td>\n",
       "    </tr>\n",
       "    <tr>\n",
       "      <th>35</th>\n",
       "      <td>None</td>\n",
       "      <td>428905</td>\n",
       "      <td>2009</td>\n",
       "      <td>CZ</td>\n",
       "      <td>EUA_2008</td>\n",
       "      <td>GB_381</td>\n",
       "      <td>AAU - Assigned Amount Unit - Allowance issued ...</td>\n",
       "    </tr>\n",
       "    <tr>\n",
       "      <th>36</th>\n",
       "      <td>None</td>\n",
       "      <td>1024635</td>\n",
       "      <td>2009</td>\n",
       "      <td>DE</td>\n",
       "      <td>EUA_2008</td>\n",
       "      <td>GB_381</td>\n",
       "      <td>AAU - Assigned Amount Unit - Allowance issued ...</td>\n",
       "    </tr>\n",
       "    <tr>\n",
       "      <th>37</th>\n",
       "      <td>None</td>\n",
       "      <td>75411</td>\n",
       "      <td>2009</td>\n",
       "      <td>DK</td>\n",
       "      <td>EUA_2008</td>\n",
       "      <td>GB_381</td>\n",
       "      <td>AAU - Assigned Amount Unit - Allowance issued ...</td>\n",
       "    </tr>\n",
       "    <tr>\n",
       "      <th>38</th>\n",
       "      <td>None</td>\n",
       "      <td>492245</td>\n",
       "      <td>2009</td>\n",
       "      <td>ES</td>\n",
       "      <td>EUA_2008</td>\n",
       "      <td>GB_381</td>\n",
       "      <td>AAU - Assigned Amount Unit - Allowance issued ...</td>\n",
       "    </tr>\n",
       "    <tr>\n",
       "      <th>39</th>\n",
       "      <td>None</td>\n",
       "      <td>59913</td>\n",
       "      <td>2009</td>\n",
       "      <td>FI</td>\n",
       "      <td>EUA_2008</td>\n",
       "      <td>GB_381</td>\n",
       "      <td>AAU - Assigned Amount Unit - Allowance issued ...</td>\n",
       "    </tr>\n",
       "    <tr>\n",
       "      <th>40</th>\n",
       "      <td>None</td>\n",
       "      <td>20319513</td>\n",
       "      <td>2013</td>\n",
       "      <td>None</td>\n",
       "      <td>EUA_2013</td>\n",
       "      <td>GB_381</td>\n",
       "      <td>General allowances</td>\n",
       "    </tr>\n",
       "    <tr>\n",
       "      <th>41</th>\n",
       "      <td>None</td>\n",
       "      <td>16595193</td>\n",
       "      <td>2014</td>\n",
       "      <td>None</td>\n",
       "      <td>EUA_2013</td>\n",
       "      <td>GB_381</td>\n",
       "      <td>General allowances</td>\n",
       "    </tr>\n",
       "    <tr>\n",
       "      <th>42</th>\n",
       "      <td>None</td>\n",
       "      <td>13192780</td>\n",
       "      <td>2015</td>\n",
       "      <td>None</td>\n",
       "      <td>EUA_2013</td>\n",
       "      <td>GB_381</td>\n",
       "      <td>General allowances</td>\n",
       "    </tr>\n",
       "    <tr>\n",
       "      <th>43</th>\n",
       "      <td>None</td>\n",
       "      <td>6261692</td>\n",
       "      <td>2016</td>\n",
       "      <td>None</td>\n",
       "      <td>EUA_2013</td>\n",
       "      <td>GB_381</td>\n",
       "      <td>General allowances</td>\n",
       "    </tr>\n",
       "    <tr>\n",
       "      <th>44</th>\n",
       "      <td>None</td>\n",
       "      <td>6215220</td>\n",
       "      <td>2017</td>\n",
       "      <td>None</td>\n",
       "      <td>EUA_2013</td>\n",
       "      <td>GB_381</td>\n",
       "      <td>General allowances</td>\n",
       "    </tr>\n",
       "    <tr>\n",
       "      <th>45</th>\n",
       "      <td>None</td>\n",
       "      <td>4013923</td>\n",
       "      <td>2018</td>\n",
       "      <td>None</td>\n",
       "      <td>EUA_2013</td>\n",
       "      <td>GB_381</td>\n",
       "      <td>General allowances</td>\n",
       "    </tr>\n",
       "    <tr>\n",
       "      <th>46</th>\n",
       "      <td>None</td>\n",
       "      <td>725742</td>\n",
       "      <td>2019</td>\n",
       "      <td>None</td>\n",
       "      <td>EUA_2013</td>\n",
       "      <td>GB_381</td>\n",
       "      <td>General allowances</td>\n",
       "    </tr>\n",
       "  </tbody>\n",
       "</table>\n",
       "</div>"
      ],
      "text/plain": [
       "   project_id    amount  year originatingRegistry_id unitType_id  \\\n",
       "0        None     14000  2005                     AT     EUA2005   \n",
       "1        None    600500  2005                     BE     EUA2005   \n",
       "2        None    675008  2005                     CZ     EUA2005   \n",
       "3        None    983190  2005                     DE     EUA2005   \n",
       "4        None    224255  2005                     DK     EUA2005   \n",
       "5        None    895000  2005                     EE     EUA2005   \n",
       "6        None      5000  2005                     ES     EUA2005   \n",
       "7        None    237833  2005                     FI     EUA2005   \n",
       "8        None    485457  2005                     FR     EUA2005   \n",
       "9        None  16257826  2005                     GB     EUA2005   \n",
       "10       None      3000  2005                     IE     EUA2005   \n",
       "11       None     80376  2005                     LV     EUA2005   \n",
       "12       None    205720  2005                     NL     EUA2005   \n",
       "13       None     17590  2005                     SE     EUA2005   \n",
       "14       None     86869  2005                     SK     EUA2005   \n",
       "15       None     25000  2006                     AT     EUA2005   \n",
       "16       None    380585  2006                     BE     EUA2005   \n",
       "17       None    129977  2006                     CZ     EUA2005   \n",
       "18       None    109000  2006                     DE     EUA2005   \n",
       "19       None    236000  2006                     DK     EUA2005   \n",
       "20       None     64286  2008                     AT    EUA_2008   \n",
       "21       None    405779  2008                     BE    EUA_2008   \n",
       "22       None    835819  2008                     CZ    EUA_2008   \n",
       "23       None    742990  2008                     DE    EUA_2008   \n",
       "24       None    120721  2008                     DK    EUA_2008   \n",
       "25       None    251989  2008                     ES    EUA_2008   \n",
       "26       None   1007438  2008                     FR    EUA_2008   \n",
       "27       None  13843552  2008                     GB    EUA_2008   \n",
       "28       None    125000  2008                     GR    EUA_2008   \n",
       "29       None   4473816  2008                     NL    EUA_2008   \n",
       "30       None    139000  2008                     PT    EUA_2008   \n",
       "31       None    116329  2008                     SE    EUA_2008   \n",
       "32       None    173059  2008                     SK    EUA_2008   \n",
       "33       None     29733  2009                     AT    EUA_2008   \n",
       "34       None     97242  2009                     BE    EUA_2008   \n",
       "35       None    428905  2009                     CZ    EUA_2008   \n",
       "36       None   1024635  2009                     DE    EUA_2008   \n",
       "37       None     75411  2009                     DK    EUA_2008   \n",
       "38       None    492245  2009                     ES    EUA_2008   \n",
       "39       None     59913  2009                     FI    EUA_2008   \n",
       "40       None  20319513  2013                   None    EUA_2013   \n",
       "41       None  16595193  2014                   None    EUA_2013   \n",
       "42       None  13192780  2015                   None    EUA_2013   \n",
       "43       None   6261692  2016                   None    EUA_2013   \n",
       "44       None   6215220  2017                   None    EUA_2013   \n",
       "45       None   4013923  2018                   None    EUA_2013   \n",
       "46       None    725742  2019                   None    EUA_2013   \n",
       "\n",
       "   installation_id                                           unitType  \n",
       "0           GB_381  Allowance issued for the 2005-2007 period and ...  \n",
       "1           GB_381  Allowance issued for the 2005-2007 period and ...  \n",
       "2           GB_381  Allowance issued for the 2005-2007 period and ...  \n",
       "3           GB_381  Allowance issued for the 2005-2007 period and ...  \n",
       "4           GB_381  Allowance issued for the 2005-2007 period and ...  \n",
       "5           GB_381  Allowance issued for the 2005-2007 period and ...  \n",
       "6           GB_381  Allowance issued for the 2005-2007 period and ...  \n",
       "7           GB_381  Allowance issued for the 2005-2007 period and ...  \n",
       "8           GB_381  Allowance issued for the 2005-2007 period and ...  \n",
       "9           GB_381  Allowance issued for the 2005-2007 period and ...  \n",
       "10          GB_381  Allowance issued for the 2005-2007 period and ...  \n",
       "11          GB_381  Allowance issued for the 2005-2007 period and ...  \n",
       "12          GB_381  Allowance issued for the 2005-2007 period and ...  \n",
       "13          GB_381  Allowance issued for the 2005-2007 period and ...  \n",
       "14          GB_381  Allowance issued for the 2005-2007 period and ...  \n",
       "15          GB_381  Allowance issued for the 2005-2007 period and ...  \n",
       "16          GB_381  Allowance issued for the 2005-2007 period and ...  \n",
       "17          GB_381  Allowance issued for the 2005-2007 period and ...  \n",
       "18          GB_381  Allowance issued for the 2005-2007 period and ...  \n",
       "19          GB_381  Allowance issued for the 2005-2007 period and ...  \n",
       "20          GB_381  AAU - Assigned Amount Unit - Allowance issued ...  \n",
       "21          GB_381  AAU - Assigned Amount Unit - Allowance issued ...  \n",
       "22          GB_381  AAU - Assigned Amount Unit - Allowance issued ...  \n",
       "23          GB_381  AAU - Assigned Amount Unit - Allowance issued ...  \n",
       "24          GB_381  AAU - Assigned Amount Unit - Allowance issued ...  \n",
       "25          GB_381  AAU - Assigned Amount Unit - Allowance issued ...  \n",
       "26          GB_381  AAU - Assigned Amount Unit - Allowance issued ...  \n",
       "27          GB_381  AAU - Assigned Amount Unit - Allowance issued ...  \n",
       "28          GB_381  AAU - Assigned Amount Unit - Allowance issued ...  \n",
       "29          GB_381  AAU - Assigned Amount Unit - Allowance issued ...  \n",
       "30          GB_381  AAU - Assigned Amount Unit - Allowance issued ...  \n",
       "31          GB_381  AAU - Assigned Amount Unit - Allowance issued ...  \n",
       "32          GB_381  AAU - Assigned Amount Unit - Allowance issued ...  \n",
       "33          GB_381  AAU - Assigned Amount Unit - Allowance issued ...  \n",
       "34          GB_381  AAU - Assigned Amount Unit - Allowance issued ...  \n",
       "35          GB_381  AAU - Assigned Amount Unit - Allowance issued ...  \n",
       "36          GB_381  AAU - Assigned Amount Unit - Allowance issued ...  \n",
       "37          GB_381  AAU - Assigned Amount Unit - Allowance issued ...  \n",
       "38          GB_381  AAU - Assigned Amount Unit - Allowance issued ...  \n",
       "39          GB_381  AAU - Assigned Amount Unit - Allowance issued ...  \n",
       "40          GB_381                                 General allowances  \n",
       "41          GB_381                                 General allowances  \n",
       "42          GB_381                                 General allowances  \n",
       "43          GB_381                                 General allowances  \n",
       "44          GB_381                                 General allowances  \n",
       "45          GB_381                                 General allowances  \n",
       "46          GB_381                                 General allowances  "
      ]
     },
     "execution_count": 12,
     "metadata": {},
     "output_type": "execute_result"
    }
   ],
   "source": [
    "drax.surrendering\n",
    "df_surrender = drax.get_surrendering()\n",
    "df_surrender"
   ]
  },
  {
   "cell_type": "markdown",
   "metadata": {},
   "source": [
    "Up to 2012, the EUTL provides us with the type of unit surrendered as well as where these allowances have been originally created. Drax only used EU certificates either the ones released in the first or second period. If they would have used international credits such as CERs or ERUs, we should observe this in the data. After 2012, we only observe general allowances, i.e., EU allowances. "
   ]
  },
  {
   "cell_type": "markdown",
   "metadata": {},
   "source": [
    "Let's again zoom into the year 2005 and take a closer look at surrendered units:"
   ]
  },
  {
   "cell_type": "code",
   "execution_count": 13,
   "metadata": {},
   "outputs": [
    {
     "name": "stdout",
     "output_type": "stream",
     "text": [
      "Surrender in 2005:  20771624\n"
     ]
    },
    {
     "data": {
      "text/html": [
       "<div>\n",
       "<style scoped>\n",
       "    .dataframe tbody tr th:only-of-type {\n",
       "        vertical-align: middle;\n",
       "    }\n",
       "\n",
       "    .dataframe tbody tr th {\n",
       "        vertical-align: top;\n",
       "    }\n",
       "\n",
       "    .dataframe thead th {\n",
       "        text-align: right;\n",
       "    }\n",
       "</style>\n",
       "<table border=\"1\" class=\"dataframe\">\n",
       "  <thead>\n",
       "    <tr style=\"text-align: right;\">\n",
       "      <th></th>\n",
       "      <th>amount</th>\n",
       "      <th>originatingRegistry_id</th>\n",
       "      <th>unitType_id</th>\n",
       "    </tr>\n",
       "  </thead>\n",
       "  <tbody>\n",
       "    <tr>\n",
       "      <th>0</th>\n",
       "      <td>14000</td>\n",
       "      <td>AT</td>\n",
       "      <td>EUA2005</td>\n",
       "    </tr>\n",
       "    <tr>\n",
       "      <th>1</th>\n",
       "      <td>600500</td>\n",
       "      <td>BE</td>\n",
       "      <td>EUA2005</td>\n",
       "    </tr>\n",
       "    <tr>\n",
       "      <th>2</th>\n",
       "      <td>675008</td>\n",
       "      <td>CZ</td>\n",
       "      <td>EUA2005</td>\n",
       "    </tr>\n",
       "    <tr>\n",
       "      <th>3</th>\n",
       "      <td>983190</td>\n",
       "      <td>DE</td>\n",
       "      <td>EUA2005</td>\n",
       "    </tr>\n",
       "    <tr>\n",
       "      <th>4</th>\n",
       "      <td>224255</td>\n",
       "      <td>DK</td>\n",
       "      <td>EUA2005</td>\n",
       "    </tr>\n",
       "    <tr>\n",
       "      <th>5</th>\n",
       "      <td>895000</td>\n",
       "      <td>EE</td>\n",
       "      <td>EUA2005</td>\n",
       "    </tr>\n",
       "    <tr>\n",
       "      <th>6</th>\n",
       "      <td>5000</td>\n",
       "      <td>ES</td>\n",
       "      <td>EUA2005</td>\n",
       "    </tr>\n",
       "    <tr>\n",
       "      <th>7</th>\n",
       "      <td>237833</td>\n",
       "      <td>FI</td>\n",
       "      <td>EUA2005</td>\n",
       "    </tr>\n",
       "    <tr>\n",
       "      <th>8</th>\n",
       "      <td>485457</td>\n",
       "      <td>FR</td>\n",
       "      <td>EUA2005</td>\n",
       "    </tr>\n",
       "    <tr>\n",
       "      <th>9</th>\n",
       "      <td>16257826</td>\n",
       "      <td>GB</td>\n",
       "      <td>EUA2005</td>\n",
       "    </tr>\n",
       "    <tr>\n",
       "      <th>10</th>\n",
       "      <td>3000</td>\n",
       "      <td>IE</td>\n",
       "      <td>EUA2005</td>\n",
       "    </tr>\n",
       "    <tr>\n",
       "      <th>11</th>\n",
       "      <td>80376</td>\n",
       "      <td>LV</td>\n",
       "      <td>EUA2005</td>\n",
       "    </tr>\n",
       "    <tr>\n",
       "      <th>12</th>\n",
       "      <td>205720</td>\n",
       "      <td>NL</td>\n",
       "      <td>EUA2005</td>\n",
       "    </tr>\n",
       "    <tr>\n",
       "      <th>13</th>\n",
       "      <td>17590</td>\n",
       "      <td>SE</td>\n",
       "      <td>EUA2005</td>\n",
       "    </tr>\n",
       "    <tr>\n",
       "      <th>14</th>\n",
       "      <td>86869</td>\n",
       "      <td>SK</td>\n",
       "      <td>EUA2005</td>\n",
       "    </tr>\n",
       "  </tbody>\n",
       "</table>\n",
       "</div>"
      ],
      "text/plain": [
       "      amount originatingRegistry_id unitType_id\n",
       "0      14000                     AT     EUA2005\n",
       "1     600500                     BE     EUA2005\n",
       "2     675008                     CZ     EUA2005\n",
       "3     983190                     DE     EUA2005\n",
       "4     224255                     DK     EUA2005\n",
       "5     895000                     EE     EUA2005\n",
       "6       5000                     ES     EUA2005\n",
       "7     237833                     FI     EUA2005\n",
       "8     485457                     FR     EUA2005\n",
       "9   16257826                     GB     EUA2005\n",
       "10      3000                     IE     EUA2005\n",
       "11     80376                     LV     EUA2005\n",
       "12    205720                     NL     EUA2005\n",
       "13     17590                     SE     EUA2005\n",
       "14     86869                     SK     EUA2005"
      ]
     },
     "execution_count": 13,
     "metadata": {},
     "output_type": "execute_result"
    }
   ],
   "source": [
    "df_surr_2005 = df_surrender[df_surrender.year == 2005]\\\n",
    "                    .drop([\"year\", \"project_id\", \"unitType\", \"installation_id\"], axis=1)\n",
    "print(\"Surrender in 2005: \", df_surr_2005.amount.sum())\n",
    "df_surr_2005"
   ]
  },
  {
   "cell_type": "markdown",
   "metadata": {},
   "source": [
    "As a consistency check, the number of surrendered units in 2005 provided by the surrendering units details sums up to total surrendering as provided by compliance data.\n",
    "\n",
    "Looking at the country of origin of surrendered units, we see a surprisingly diverse picture. 2005 was the first year of the EUETS and Drax needed to surrender units in April 2006. Although the instrument was rather new, Drax obtained allowances from various countries. This is particular surprising as Drax was rather generously equipped with allowances for free receiving about 14.5 million allowances for free in 2015 and also in 2016 (before surrendering). Staying at the descriptive level, we are not aiming to understand the drivers of Drax decision to make use of the allowance market but rather to understand how they managed to obtain these allowances in the very early phase of the EUETS.\n"
   ]
  },
  {
   "cell_type": "markdown",
   "metadata": {},
   "source": [
    "# Accounts"
   ]
  },
  {
   "cell_type": "markdown",
   "metadata": {},
   "source": [
    "The EUETS implements emissions trading. Industrial plants regulated are called <i>Installations</i>. Each installation has to be related to an accounts. These accounts might (and are likely to) change over time but at each instance in time an installation is represented by an account. Accounts are the backbone of the trading system, i.e., allowances are transferred between accounts not between installations. Accounts related to installations are called operator holding accounts. As transfers of allowances take place at the account level, we need to find out which accounts represent our Drax power station.\n",
    "\n",
    "Technically, related accounts are again implemented as property on the installation object:"
   ]
  },
  {
   "cell_type": "code",
   "execution_count": 14,
   "metadata": {},
   "outputs": [
    {
     "data": {
      "text/plain": [
       "[<Account(23963, 'GB Drax Power Station', 'GB', '100-7')>,\n",
       " <Account(22606, 'GB Operator Account', 'GB', '120-0')>]"
      ]
     },
     "execution_count": 14,
     "metadata": {},
     "output_type": "execute_result"
    }
   ],
   "source": [
    "oha = drax.accounts\n",
    "oha"
   ]
  },
  {
   "cell_type": "markdown",
   "metadata": {},
   "source": [
    "There are two different accounts. 120-0 denotes former operator holding accounts whereas 100-7 denotes the operating holding account. This account structure is common for installations that have been regulated under the EUETS already before 2013. Due to the change in the EUTL, all installation had to convert their account from 120-0 to 100-7 accounts. Consequently, our 2005 analysis has to focus in the 120-0 account with the meaningful name \"Operator Account\".\n",
    "\n",
    "Before analyzing the transactions of this account, let's see what kind of information we can obtain for the account: "
   ]
  },
  {
   "cell_type": "code",
   "execution_count": 15,
   "metadata": {},
   "outputs": [
    {
     "data": {
      "text/plain": [
       "{'commitmentPeriod': 'Supplementary Program Commitment Period (2005 - 2007)',\n",
       " 'openingDate': datetime.datetime(2005, 5, 18, 0, 0),\n",
       " 'accountHolder_id': 10229,\n",
       " 'accountType_id': '120-0',\n",
       " 'name': 'GB Operator Account',\n",
       " 'installation_id': 'GB_381',\n",
       " 'companyRegistrationNumber': '4883589',\n",
       " 'closingDate': datetime.datetime(2014, 7, 16, 16, 50, 14),\n",
       " 'isOpen': False,\n",
       " 'registry_id': 'GB',\n",
       " 'id': 22606,\n",
       " 'isRegisteredEutl': True,\n",
       " 'accountType': 'Former Operator Holding Account'}"
      ]
     },
     "execution_count": 15,
     "metadata": {},
     "output_type": "execute_result"
    }
   ],
   "source": [
    "foha = oha[1]\n",
    "foha.to_dict()"
   ]
  },
  {
   "cell_type": "markdown",
   "metadata": {},
   "source": [
    "The account was opened in the Great Britain registry in May 2015 and closed after the revision of the EUTL in July 2014. The EUTL provides a company registration number useful to match accounts to other, firm-level datasets. The account provides a account holder reference pointing to the person responsible for the account:"
   ]
  },
  {
   "cell_type": "code",
   "execution_count": 17,
   "metadata": {},
   "outputs": [
    {
     "data": {
      "text/plain": [
       "{'city': 'Selby',\n",
       " 'addressSecondary': 'DRAX POWER STATION, PO BOX 3',\n",
       " 'name': 'Drax Power Limited',\n",
       " 'country_id': 'GB',\n",
       " 'postalCode': 'YO8 8PH',\n",
       " 'addressMain': 'Drax Power Station',\n",
       " 'id': 10229,\n",
       " 'country': 'United Kingdom'}"
      ]
     },
     "execution_count": 17,
     "metadata": {},
     "output_type": "execute_result"
    }
   ],
   "source": [
    "foha.accountHolder.to_dict()"
   ]
  },
  {
   "cell_type": "markdown",
   "metadata": {},
   "source": [
    "In the case of Drax, the account holder is not of particular interest. It is located at the same address and does not provide any further information. Often inspecting further accounts of the account holder can help disentangling the trading behavior:"
   ]
  },
  {
   "cell_type": "code",
   "execution_count": 20,
   "metadata": {},
   "outputs": [
    {
     "data": {
      "text/plain": [
       "[<Account(23963, 'GB Drax Power Station', 'GB', '100-7')>,\n",
       " <Account(22606, 'GB Operator Account', 'GB', '120-0')>]"
      ]
     },
     "execution_count": 20,
     "metadata": {},
     "output_type": "execute_result"
    }
   ],
   "source": [
    "foha.accountHolder.accounts"
   ]
  },
  {
   "cell_type": "markdown",
   "metadata": {},
   "source": [
    "However, in this particular case we only see the current operator holding account which we already knew before. "
   ]
  },
  {
   "cell_type": "markdown",
   "metadata": {},
   "source": [
    "# Transactions"
   ]
  },
  {
   "cell_type": "markdown",
   "metadata": {},
   "source": [
    "We now know the account Drax used to transfer allowances. We are, thus, finally in the position to analyze how Drax was able to surrender allowances from such a divers set of countries. To do so, we query transactions of the former operator holding account taking place before the date of surrendering (April 2006):"
   ]
  },
  {
   "cell_type": "code",
   "execution_count": 22,
   "metadata": {},
   "outputs": [
    {
     "ename": "AttributeError",
     "evalue": "'Account' object has no attribute 'transaction'",
     "output_type": "error",
     "traceback": [
      "\u001b[1;31m---------------------------------------------------------------------------\u001b[0m",
      "\u001b[1;31mAttributeError\u001b[0m                            Traceback (most recent call last)",
      "\u001b[1;32m<ipython-input-22-81dd3d8f2393>\u001b[0m in \u001b[0;36m<module>\u001b[1;34m\u001b[0m\n\u001b[1;32m----> 1\u001b[1;33m \u001b[0mfoha\u001b[0m\u001b[1;33m.\u001b[0m\u001b[0mtransaction\u001b[0m\u001b[1;33m\u001b[0m\u001b[1;33m\u001b[0m\u001b[0m\n\u001b[0m",
      "\u001b[1;31mAttributeError\u001b[0m: 'Account' object has no attribute 'transaction'"
     ]
    }
   ],
   "source": [
    "foha.transaction"
   ]
  },
  {
   "cell_type": "code",
   "execution_count": null,
   "metadata": {},
   "outputs": [],
   "source": []
  }
 ],
 "metadata": {
  "kernelspec": {
   "display_name": "Python [conda env:py38_eutl]",
   "language": "python",
   "name": "conda-env-py38_eutl-py"
  },
  "language_info": {
   "codemirror_mode": {
    "name": "ipython",
    "version": 3
   },
   "file_extension": ".py",
   "mimetype": "text/x-python",
   "name": "python",
   "nbconvert_exporter": "python",
   "pygments_lexer": "ipython3",
   "version": "3.8.5"
  },
  "toc": {
   "base_numbering": 1,
   "nav_menu": {},
   "number_sections": true,
   "sideBar": true,
   "skip_h1_title": false,
   "title_cell": "Table of Contents",
   "title_sidebar": "Contents",
   "toc_cell": false,
   "toc_position": {},
   "toc_section_display": true,
   "toc_window_display": false
  },
  "varInspector": {
   "cols": {
    "lenName": 16,
    "lenType": 16,
    "lenVar": 40
   },
   "kernels_config": {
    "python": {
     "delete_cmd_postfix": "",
     "delete_cmd_prefix": "del ",
     "library": "var_list.py",
     "varRefreshCmd": "print(var_dic_list())"
    },
    "r": {
     "delete_cmd_postfix": ") ",
     "delete_cmd_prefix": "rm(",
     "library": "var_list.r",
     "varRefreshCmd": "cat(var_dic_list()) "
    }
   },
   "types_to_exclude": [
    "module",
    "function",
    "builtin_function_or_method",
    "instance",
    "_Feature"
   ],
   "window_display": false
  }
 },
 "nbformat": 4,
 "nbformat_minor": 4
}
